{
 "cells": [
  {
   "cell_type": "markdown",
   "metadata": {},
   "source": [
    "# Pokémon for Data Mining and Machine Learning"
   ]
  },
  {
   "cell_type": "markdown",
   "metadata": {},
   "source": [
    "# Team name: JustFrag\n",
    "# Team members:\n",
    "    Oğuz Gül\n",
    "    Nuri Akseli\n",
    "    Ümmügülsüm Kaşıkçı"
   ]
  },
  {
   "cell_type": "markdown",
   "metadata": {},
   "source": [
    "## 1-) Reading Pokemon CSV"
   ]
  },
  {
   "cell_type": "code",
   "execution_count": 50,
   "metadata": {},
   "outputs": [
    {
     "data": {
      "text/html": [
       "<div>\n",
       "<style scoped>\n",
       "    .dataframe tbody tr th:only-of-type {\n",
       "        vertical-align: middle;\n",
       "    }\n",
       "\n",
       "    .dataframe tbody tr th {\n",
       "        vertical-align: top;\n",
       "    }\n",
       "\n",
       "    .dataframe thead th {\n",
       "        text-align: right;\n",
       "    }\n",
       "</style>\n",
       "<table border=\"1\" class=\"dataframe\">\n",
       "  <thead>\n",
       "    <tr style=\"text-align: right;\">\n",
       "      <th></th>\n",
       "      <th>Number</th>\n",
       "      <th>Name</th>\n",
       "      <th>Type_1</th>\n",
       "      <th>Type_2</th>\n",
       "      <th>Total</th>\n",
       "      <th>HP</th>\n",
       "      <th>Attack</th>\n",
       "      <th>Defense</th>\n",
       "      <th>Sp_Atk</th>\n",
       "      <th>Sp_Def</th>\n",
       "      <th>...</th>\n",
       "      <th>Color</th>\n",
       "      <th>hasGender</th>\n",
       "      <th>Pr_Male</th>\n",
       "      <th>Egg_Group_1</th>\n",
       "      <th>Egg_Group_2</th>\n",
       "      <th>hasMegaEvolution</th>\n",
       "      <th>Height_m</th>\n",
       "      <th>Weight_kg</th>\n",
       "      <th>Catch_Rate</th>\n",
       "      <th>Body_Style</th>\n",
       "    </tr>\n",
       "  </thead>\n",
       "  <tbody>\n",
       "    <tr>\n",
       "      <th>0</th>\n",
       "      <td>1</td>\n",
       "      <td>Bulbasaur</td>\n",
       "      <td>Grass</td>\n",
       "      <td>Poison</td>\n",
       "      <td>318</td>\n",
       "      <td>45</td>\n",
       "      <td>49</td>\n",
       "      <td>49</td>\n",
       "      <td>65</td>\n",
       "      <td>65</td>\n",
       "      <td>...</td>\n",
       "      <td>Green</td>\n",
       "      <td>True</td>\n",
       "      <td>0.875</td>\n",
       "      <td>Monster</td>\n",
       "      <td>Grass</td>\n",
       "      <td>False</td>\n",
       "      <td>0.71</td>\n",
       "      <td>6.9</td>\n",
       "      <td>45</td>\n",
       "      <td>quadruped</td>\n",
       "    </tr>\n",
       "    <tr>\n",
       "      <th>1</th>\n",
       "      <td>2</td>\n",
       "      <td>Ivysaur</td>\n",
       "      <td>Grass</td>\n",
       "      <td>Poison</td>\n",
       "      <td>405</td>\n",
       "      <td>60</td>\n",
       "      <td>62</td>\n",
       "      <td>63</td>\n",
       "      <td>80</td>\n",
       "      <td>80</td>\n",
       "      <td>...</td>\n",
       "      <td>Green</td>\n",
       "      <td>True</td>\n",
       "      <td>0.875</td>\n",
       "      <td>Monster</td>\n",
       "      <td>Grass</td>\n",
       "      <td>False</td>\n",
       "      <td>0.99</td>\n",
       "      <td>13.0</td>\n",
       "      <td>45</td>\n",
       "      <td>quadruped</td>\n",
       "    </tr>\n",
       "    <tr>\n",
       "      <th>2</th>\n",
       "      <td>3</td>\n",
       "      <td>Venusaur</td>\n",
       "      <td>Grass</td>\n",
       "      <td>Poison</td>\n",
       "      <td>525</td>\n",
       "      <td>80</td>\n",
       "      <td>82</td>\n",
       "      <td>83</td>\n",
       "      <td>100</td>\n",
       "      <td>100</td>\n",
       "      <td>...</td>\n",
       "      <td>Green</td>\n",
       "      <td>True</td>\n",
       "      <td>0.875</td>\n",
       "      <td>Monster</td>\n",
       "      <td>Grass</td>\n",
       "      <td>True</td>\n",
       "      <td>2.01</td>\n",
       "      <td>100.0</td>\n",
       "      <td>45</td>\n",
       "      <td>quadruped</td>\n",
       "    </tr>\n",
       "    <tr>\n",
       "      <th>3</th>\n",
       "      <td>4</td>\n",
       "      <td>Charmander</td>\n",
       "      <td>Fire</td>\n",
       "      <td>NaN</td>\n",
       "      <td>309</td>\n",
       "      <td>39</td>\n",
       "      <td>52</td>\n",
       "      <td>43</td>\n",
       "      <td>60</td>\n",
       "      <td>50</td>\n",
       "      <td>...</td>\n",
       "      <td>Red</td>\n",
       "      <td>True</td>\n",
       "      <td>0.875</td>\n",
       "      <td>Monster</td>\n",
       "      <td>Dragon</td>\n",
       "      <td>False</td>\n",
       "      <td>0.61</td>\n",
       "      <td>8.5</td>\n",
       "      <td>45</td>\n",
       "      <td>bipedal_tailed</td>\n",
       "    </tr>\n",
       "    <tr>\n",
       "      <th>4</th>\n",
       "      <td>5</td>\n",
       "      <td>Charmeleon</td>\n",
       "      <td>Fire</td>\n",
       "      <td>NaN</td>\n",
       "      <td>405</td>\n",
       "      <td>58</td>\n",
       "      <td>64</td>\n",
       "      <td>58</td>\n",
       "      <td>80</td>\n",
       "      <td>65</td>\n",
       "      <td>...</td>\n",
       "      <td>Red</td>\n",
       "      <td>True</td>\n",
       "      <td>0.875</td>\n",
       "      <td>Monster</td>\n",
       "      <td>Dragon</td>\n",
       "      <td>False</td>\n",
       "      <td>1.09</td>\n",
       "      <td>19.0</td>\n",
       "      <td>45</td>\n",
       "      <td>bipedal_tailed</td>\n",
       "    </tr>\n",
       "  </tbody>\n",
       "</table>\n",
       "<p>5 rows × 23 columns</p>\n",
       "</div>"
      ],
      "text/plain": [
       "   Number        Name Type_1  Type_2  Total  HP  Attack  Defense  Sp_Atk  \\\n",
       "0       1   Bulbasaur  Grass  Poison    318  45      49       49      65   \n",
       "1       2     Ivysaur  Grass  Poison    405  60      62       63      80   \n",
       "2       3    Venusaur  Grass  Poison    525  80      82       83     100   \n",
       "3       4  Charmander   Fire     NaN    309  39      52       43      60   \n",
       "4       5  Charmeleon   Fire     NaN    405  58      64       58      80   \n",
       "\n",
       "   Sp_Def       ...        Color  hasGender  Pr_Male Egg_Group_1  Egg_Group_2  \\\n",
       "0      65       ...        Green       True    0.875     Monster        Grass   \n",
       "1      80       ...        Green       True    0.875     Monster        Grass   \n",
       "2     100       ...        Green       True    0.875     Monster        Grass   \n",
       "3      50       ...          Red       True    0.875     Monster       Dragon   \n",
       "4      65       ...          Red       True    0.875     Monster       Dragon   \n",
       "\n",
       "   hasMegaEvolution Height_m Weight_kg  Catch_Rate      Body_Style  \n",
       "0             False     0.71       6.9          45       quadruped  \n",
       "1             False     0.99      13.0          45       quadruped  \n",
       "2              True     2.01     100.0          45       quadruped  \n",
       "3             False     0.61       8.5          45  bipedal_tailed  \n",
       "4             False     1.09      19.0          45  bipedal_tailed  \n",
       "\n",
       "[5 rows x 23 columns]"
      ]
     },
     "execution_count": 50,
     "metadata": {},
     "output_type": "execute_result"
    }
   ],
   "source": [
    "import pandas as pd \n",
    "import seaborn as sns\n",
    "data = pd.read_csv('dataset/pokemon_alopez247.csv')\n",
    "data.head(5)"
   ]
  },
  {
   "cell_type": "markdown",
   "metadata": {},
   "source": [
    "In pokemon dataset, there are 23 coloumns and they are ;"
   ]
  },
  {
   "cell_type": "code",
   "execution_count": 3,
   "metadata": {},
   "outputs": [
    {
     "name": "stdout",
     "output_type": "stream",
     "text": [
      "Number\n",
      "Name\n",
      "Type_1\n",
      "Type_2\n",
      "Total\n",
      "HP\n",
      "Attack\n",
      "Defense\n",
      "Sp_Atk\n",
      "Sp_Def\n",
      "Speed\n",
      "Generation\n",
      "isLegendary\n",
      "Color\n",
      "hasGender\n",
      "Pr_Male\n",
      "Egg_Group_1\n",
      "Egg_Group_2\n",
      "hasMegaEvolution\n",
      "Height_m\n",
      "Weight_kg\n",
      "Catch_Rate\n",
      "Body_Style\n"
     ]
    }
   ],
   "source": [
    "for i in data.columns:\n",
    "    print(i)"
   ]
  },
  {
   "cell_type": "markdown",
   "metadata": {},
   "source": [
    "    *Number          : Entry number of this pokemon\n",
    "    *Name            : Pokemon's name\n",
    "    *Type_1          : every pokemon has a type and it determine how strong they are to other pokemons\n",
    "    *Type_2          : Some pokemon has one more type and they shows two type's features\n",
    "    *Total           : Sum of all statictics of the pokemon\n",
    "    *HP              : Health of the pokemon it shows how much damage can take the pokemon\n",
    "    *Attack          : Pokemon's hit power\n",
    "    *Defense         : Pokemon's defense power against the normal hit\n",
    "    *Sp_Atk          : Pokemon's special attack power\n",
    "    *Sp_Def          : Pokemon's defense power against the special hit\n",
    "    *Speed           : Speed of the pokemon. It determine that pokemon can attack how much quick\n",
    "    *Generation      : it shows the pokemon's release season\n",
    "    *isLegendary     : Some of the pokemons are stronger than other and hard to find they called legendary\n",
    "    *Color           : The color of the pokemon\n",
    "    *hasGender       : Some pokemon's have male and female type\n",
    "    *Pr_Male         : Pokemon has gender and the probability of its being male\n",
    "    *Egg_Group_1     : it determine pokemon's type when it is in egg\n",
    "    *Egg_Group_2     : it is similiar to Egg_Group_1\n",
    "    *hasMegaEvolution: Some pokemon has stronger form that they can transform for some time with a stone\n",
    "    *Height_m        : Height of the pokemon as meter\n",
    "    *Weight_kg       : Weight of the pokemon as kg\n",
    "    *Catch_Rate      : Pokemon's rate that shows how easily captured\n",
    "    *Body_Style      : Body style of the Pokémon according to the Pokédex"
   ]
  },
  {
   "cell_type": "markdown",
   "metadata": {},
   "source": [
    "\n",
    "There are 721 data in this dataset."
   ]
  },
  {
   "cell_type": "code",
   "execution_count": 4,
   "metadata": {},
   "outputs": [
    {
     "name": "stdout",
     "output_type": "stream",
     "text": [
      "The number of data in pokemon dataset: 721\n"
     ]
    }
   ],
   "source": [
    "print(\"The number of data in pokemon dataset:\",data['Number'].count())"
   ]
  },
  {
   "cell_type": "markdown",
   "metadata": {},
   "source": [
    "## 2-) Cleaning the dataset"
   ]
  },
  {
   "cell_type": "markdown",
   "metadata": {},
   "source": [
    "    After the reading the dataset, Our next step is make the dataset regular as we show that there are 721 data in pokemon dataset but some of these pokemon doesn't have Type_2 so we need to consider them also we need to seperate this dataset to pokemon's features and pokemon's statistics and some pokemon's doesn't have Egg_Group_2 so we need to cosider them too"
   ]
  },
  {
   "cell_type": "markdown",
   "metadata": {},
   "source": [
    "First we need to change the Number's columns name because it does'nt show how many pokemon in release it just show pokemon's entry number so we change it as id"
   ]
  },
  {
   "cell_type": "code",
   "execution_count": 5,
   "metadata": {},
   "outputs": [],
   "source": [
    "data.rename(columns={'Number': 'id'}, inplace=True)"
   ]
  },
  {
   "cell_type": "markdown",
   "metadata": {},
   "source": [
    "After that, we check if there is duplicate or not and we saw there is not duplicate data to eliminate"
   ]
  },
  {
   "cell_type": "code",
   "execution_count": 6,
   "metadata": {},
   "outputs": [
    {
     "data": {
      "text/html": [
       "<div>\n",
       "<style scoped>\n",
       "    .dataframe tbody tr th:only-of-type {\n",
       "        vertical-align: middle;\n",
       "    }\n",
       "\n",
       "    .dataframe tbody tr th {\n",
       "        vertical-align: top;\n",
       "    }\n",
       "\n",
       "    .dataframe thead th {\n",
       "        text-align: right;\n",
       "    }\n",
       "</style>\n",
       "<table border=\"1\" class=\"dataframe\">\n",
       "  <thead>\n",
       "    <tr style=\"text-align: right;\">\n",
       "      <th></th>\n",
       "      <th>id</th>\n",
       "      <th>Name</th>\n",
       "      <th>Type_1</th>\n",
       "      <th>Type_2</th>\n",
       "      <th>Total</th>\n",
       "      <th>HP</th>\n",
       "      <th>Attack</th>\n",
       "      <th>Defense</th>\n",
       "      <th>Sp_Atk</th>\n",
       "      <th>Sp_Def</th>\n",
       "      <th>...</th>\n",
       "      <th>Color</th>\n",
       "      <th>hasGender</th>\n",
       "      <th>Pr_Male</th>\n",
       "      <th>Egg_Group_1</th>\n",
       "      <th>Egg_Group_2</th>\n",
       "      <th>hasMegaEvolution</th>\n",
       "      <th>Height_m</th>\n",
       "      <th>Weight_kg</th>\n",
       "      <th>Catch_Rate</th>\n",
       "      <th>Body_Style</th>\n",
       "    </tr>\n",
       "  </thead>\n",
       "  <tbody>\n",
       "  </tbody>\n",
       "</table>\n",
       "<p>0 rows × 23 columns</p>\n",
       "</div>"
      ],
      "text/plain": [
       "Empty DataFrame\n",
       "Columns: [id, Name, Type_1, Type_2, Total, HP, Attack, Defense, Sp_Atk, Sp_Def, Speed, Generation, isLegendary, Color, hasGender, Pr_Male, Egg_Group_1, Egg_Group_2, hasMegaEvolution, Height_m, Weight_kg, Catch_Rate, Body_Style]\n",
       "Index: []\n",
       "\n",
       "[0 rows x 23 columns]"
      ]
     },
     "execution_count": 6,
     "metadata": {},
     "output_type": "execute_result"
    }
   ],
   "source": [
    "data[data.duplicated('id', keep=False)].head()"
   ]
  },
  {
   "cell_type": "markdown",
   "metadata": {},
   "source": [
    "For next step, we fill the missing values in Type_2 as None to consider them with the pokemon that has 2 types"
   ]
  },
  {
   "cell_type": "code",
   "execution_count": 7,
   "metadata": {},
   "outputs": [],
   "source": [
    "data['Type_2'].fillna(value='None', inplace=True)"
   ]
  },
  {
   "cell_type": "markdown",
   "metadata": {},
   "source": [
    "After that the dataset become;"
   ]
  },
  {
   "cell_type": "code",
   "execution_count": 8,
   "metadata": {},
   "outputs": [
    {
     "data": {
      "text/html": [
       "<div>\n",
       "<style scoped>\n",
       "    .dataframe tbody tr th:only-of-type {\n",
       "        vertical-align: middle;\n",
       "    }\n",
       "\n",
       "    .dataframe tbody tr th {\n",
       "        vertical-align: top;\n",
       "    }\n",
       "\n",
       "    .dataframe thead th {\n",
       "        text-align: right;\n",
       "    }\n",
       "</style>\n",
       "<table border=\"1\" class=\"dataframe\">\n",
       "  <thead>\n",
       "    <tr style=\"text-align: right;\">\n",
       "      <th></th>\n",
       "      <th>id</th>\n",
       "      <th>Name</th>\n",
       "      <th>Type_1</th>\n",
       "      <th>Type_2</th>\n",
       "      <th>Total</th>\n",
       "      <th>HP</th>\n",
       "      <th>Attack</th>\n",
       "      <th>Defense</th>\n",
       "      <th>Sp_Atk</th>\n",
       "      <th>Sp_Def</th>\n",
       "      <th>...</th>\n",
       "      <th>Color</th>\n",
       "      <th>hasGender</th>\n",
       "      <th>Pr_Male</th>\n",
       "      <th>Egg_Group_1</th>\n",
       "      <th>Egg_Group_2</th>\n",
       "      <th>hasMegaEvolution</th>\n",
       "      <th>Height_m</th>\n",
       "      <th>Weight_kg</th>\n",
       "      <th>Catch_Rate</th>\n",
       "      <th>Body_Style</th>\n",
       "    </tr>\n",
       "  </thead>\n",
       "  <tbody>\n",
       "    <tr>\n",
       "      <th>0</th>\n",
       "      <td>1</td>\n",
       "      <td>Bulbasaur</td>\n",
       "      <td>Grass</td>\n",
       "      <td>Poison</td>\n",
       "      <td>318</td>\n",
       "      <td>45</td>\n",
       "      <td>49</td>\n",
       "      <td>49</td>\n",
       "      <td>65</td>\n",
       "      <td>65</td>\n",
       "      <td>...</td>\n",
       "      <td>Green</td>\n",
       "      <td>True</td>\n",
       "      <td>0.875</td>\n",
       "      <td>Monster</td>\n",
       "      <td>Grass</td>\n",
       "      <td>False</td>\n",
       "      <td>0.71</td>\n",
       "      <td>6.9</td>\n",
       "      <td>45</td>\n",
       "      <td>quadruped</td>\n",
       "    </tr>\n",
       "    <tr>\n",
       "      <th>1</th>\n",
       "      <td>2</td>\n",
       "      <td>Ivysaur</td>\n",
       "      <td>Grass</td>\n",
       "      <td>Poison</td>\n",
       "      <td>405</td>\n",
       "      <td>60</td>\n",
       "      <td>62</td>\n",
       "      <td>63</td>\n",
       "      <td>80</td>\n",
       "      <td>80</td>\n",
       "      <td>...</td>\n",
       "      <td>Green</td>\n",
       "      <td>True</td>\n",
       "      <td>0.875</td>\n",
       "      <td>Monster</td>\n",
       "      <td>Grass</td>\n",
       "      <td>False</td>\n",
       "      <td>0.99</td>\n",
       "      <td>13.0</td>\n",
       "      <td>45</td>\n",
       "      <td>quadruped</td>\n",
       "    </tr>\n",
       "    <tr>\n",
       "      <th>2</th>\n",
       "      <td>3</td>\n",
       "      <td>Venusaur</td>\n",
       "      <td>Grass</td>\n",
       "      <td>Poison</td>\n",
       "      <td>525</td>\n",
       "      <td>80</td>\n",
       "      <td>82</td>\n",
       "      <td>83</td>\n",
       "      <td>100</td>\n",
       "      <td>100</td>\n",
       "      <td>...</td>\n",
       "      <td>Green</td>\n",
       "      <td>True</td>\n",
       "      <td>0.875</td>\n",
       "      <td>Monster</td>\n",
       "      <td>Grass</td>\n",
       "      <td>True</td>\n",
       "      <td>2.01</td>\n",
       "      <td>100.0</td>\n",
       "      <td>45</td>\n",
       "      <td>quadruped</td>\n",
       "    </tr>\n",
       "    <tr>\n",
       "      <th>3</th>\n",
       "      <td>4</td>\n",
       "      <td>Charmander</td>\n",
       "      <td>Fire</td>\n",
       "      <td>None</td>\n",
       "      <td>309</td>\n",
       "      <td>39</td>\n",
       "      <td>52</td>\n",
       "      <td>43</td>\n",
       "      <td>60</td>\n",
       "      <td>50</td>\n",
       "      <td>...</td>\n",
       "      <td>Red</td>\n",
       "      <td>True</td>\n",
       "      <td>0.875</td>\n",
       "      <td>Monster</td>\n",
       "      <td>Dragon</td>\n",
       "      <td>False</td>\n",
       "      <td>0.61</td>\n",
       "      <td>8.5</td>\n",
       "      <td>45</td>\n",
       "      <td>bipedal_tailed</td>\n",
       "    </tr>\n",
       "    <tr>\n",
       "      <th>4</th>\n",
       "      <td>5</td>\n",
       "      <td>Charmeleon</td>\n",
       "      <td>Fire</td>\n",
       "      <td>None</td>\n",
       "      <td>405</td>\n",
       "      <td>58</td>\n",
       "      <td>64</td>\n",
       "      <td>58</td>\n",
       "      <td>80</td>\n",
       "      <td>65</td>\n",
       "      <td>...</td>\n",
       "      <td>Red</td>\n",
       "      <td>True</td>\n",
       "      <td>0.875</td>\n",
       "      <td>Monster</td>\n",
       "      <td>Dragon</td>\n",
       "      <td>False</td>\n",
       "      <td>1.09</td>\n",
       "      <td>19.0</td>\n",
       "      <td>45</td>\n",
       "      <td>bipedal_tailed</td>\n",
       "    </tr>\n",
       "  </tbody>\n",
       "</table>\n",
       "<p>5 rows × 23 columns</p>\n",
       "</div>"
      ],
      "text/plain": [
       "   id        Name Type_1  Type_2  Total  HP  Attack  Defense  Sp_Atk  Sp_Def  \\\n",
       "0   1   Bulbasaur  Grass  Poison    318  45      49       49      65      65   \n",
       "1   2     Ivysaur  Grass  Poison    405  60      62       63      80      80   \n",
       "2   3    Venusaur  Grass  Poison    525  80      82       83     100     100   \n",
       "3   4  Charmander   Fire    None    309  39      52       43      60      50   \n",
       "4   5  Charmeleon   Fire    None    405  58      64       58      80      65   \n",
       "\n",
       "        ...        Color  hasGender  Pr_Male Egg_Group_1  Egg_Group_2  \\\n",
       "0       ...        Green       True    0.875     Monster        Grass   \n",
       "1       ...        Green       True    0.875     Monster        Grass   \n",
       "2       ...        Green       True    0.875     Monster        Grass   \n",
       "3       ...          Red       True    0.875     Monster       Dragon   \n",
       "4       ...          Red       True    0.875     Monster       Dragon   \n",
       "\n",
       "   hasMegaEvolution Height_m Weight_kg  Catch_Rate      Body_Style  \n",
       "0             False     0.71       6.9          45       quadruped  \n",
       "1             False     0.99      13.0          45       quadruped  \n",
       "2              True     2.01     100.0          45       quadruped  \n",
       "3             False     0.61       8.5          45  bipedal_tailed  \n",
       "4             False     1.09      19.0          45  bipedal_tailed  \n",
       "\n",
       "[5 rows x 23 columns]"
      ]
     },
     "execution_count": 8,
     "metadata": {},
     "output_type": "execute_result"
    }
   ],
   "source": [
    "data.head(5)"
   ]
  },
  {
   "cell_type": "markdown",
   "metadata": {},
   "source": [
    "For next step, we fill the missing values in Egg_Group_2 as None to consider them with the pokemon that has two egg groups"
   ]
  },
  {
   "cell_type": "code",
   "execution_count": 9,
   "metadata": {},
   "outputs": [],
   "source": [
    "data['Egg_Group_2'].fillna(value='None', inplace=True)"
   ]
  },
  {
   "cell_type": "markdown",
   "metadata": {},
   "source": [
    "For the next step we seperate the dataset in to two part Pokedex that contain pokemon's features"
   ]
  },
  {
   "cell_type": "code",
   "execution_count": 10,
   "metadata": {},
   "outputs": [
    {
     "data": {
      "text/html": [
       "<div>\n",
       "<style scoped>\n",
       "    .dataframe tbody tr th:only-of-type {\n",
       "        vertical-align: middle;\n",
       "    }\n",
       "\n",
       "    .dataframe tbody tr th {\n",
       "        vertical-align: top;\n",
       "    }\n",
       "\n",
       "    .dataframe thead th {\n",
       "        text-align: right;\n",
       "    }\n",
       "</style>\n",
       "<table border=\"1\" class=\"dataframe\">\n",
       "  <thead>\n",
       "    <tr style=\"text-align: right;\">\n",
       "      <th></th>\n",
       "      <th>id</th>\n",
       "      <th>Name</th>\n",
       "      <th>Type_1</th>\n",
       "      <th>Type_2</th>\n",
       "      <th>Generation</th>\n",
       "      <th>isLegendary</th>\n",
       "    </tr>\n",
       "  </thead>\n",
       "  <tbody>\n",
       "    <tr>\n",
       "      <th>0</th>\n",
       "      <td>1</td>\n",
       "      <td>Bulbasaur</td>\n",
       "      <td>Grass</td>\n",
       "      <td>Poison</td>\n",
       "      <td>1</td>\n",
       "      <td>False</td>\n",
       "    </tr>\n",
       "    <tr>\n",
       "      <th>1</th>\n",
       "      <td>2</td>\n",
       "      <td>Ivysaur</td>\n",
       "      <td>Grass</td>\n",
       "      <td>Poison</td>\n",
       "      <td>1</td>\n",
       "      <td>False</td>\n",
       "    </tr>\n",
       "    <tr>\n",
       "      <th>2</th>\n",
       "      <td>3</td>\n",
       "      <td>Venusaur</td>\n",
       "      <td>Grass</td>\n",
       "      <td>Poison</td>\n",
       "      <td>1</td>\n",
       "      <td>False</td>\n",
       "    </tr>\n",
       "    <tr>\n",
       "      <th>3</th>\n",
       "      <td>4</td>\n",
       "      <td>Charmander</td>\n",
       "      <td>Fire</td>\n",
       "      <td>None</td>\n",
       "      <td>1</td>\n",
       "      <td>False</td>\n",
       "    </tr>\n",
       "    <tr>\n",
       "      <th>4</th>\n",
       "      <td>5</td>\n",
       "      <td>Charmeleon</td>\n",
       "      <td>Fire</td>\n",
       "      <td>None</td>\n",
       "      <td>1</td>\n",
       "      <td>False</td>\n",
       "    </tr>\n",
       "  </tbody>\n",
       "</table>\n",
       "</div>"
      ],
      "text/plain": [
       "   id        Name Type_1  Type_2  Generation  isLegendary\n",
       "0   1   Bulbasaur  Grass  Poison           1        False\n",
       "1   2     Ivysaur  Grass  Poison           1        False\n",
       "2   3    Venusaur  Grass  Poison           1        False\n",
       "3   4  Charmander   Fire    None           1        False\n",
       "4   5  Charmeleon   Fire    None           1        False"
      ]
     },
     "execution_count": 10,
     "metadata": {},
     "output_type": "execute_result"
    }
   ],
   "source": [
    "Pokedex = data[['id', 'Name', 'Type_1', 'Type_2', 'Generation', 'isLegendary']]\n",
    "Pokedex.head(5)"
   ]
  },
  {
   "cell_type": "markdown",
   "metadata": {},
   "source": [
    " and Statistic that contain Pokemon's statistics;"
   ]
  },
  {
   "cell_type": "code",
   "execution_count": 11,
   "metadata": {},
   "outputs": [
    {
     "data": {
      "text/html": [
       "<div>\n",
       "<style scoped>\n",
       "    .dataframe tbody tr th:only-of-type {\n",
       "        vertical-align: middle;\n",
       "    }\n",
       "\n",
       "    .dataframe tbody tr th {\n",
       "        vertical-align: top;\n",
       "    }\n",
       "\n",
       "    .dataframe thead th {\n",
       "        text-align: right;\n",
       "    }\n",
       "</style>\n",
       "<table border=\"1\" class=\"dataframe\">\n",
       "  <thead>\n",
       "    <tr style=\"text-align: right;\">\n",
       "      <th></th>\n",
       "      <th>id</th>\n",
       "      <th>HP</th>\n",
       "      <th>Attack</th>\n",
       "      <th>Defense</th>\n",
       "      <th>Sp_Atk</th>\n",
       "      <th>Sp_Def</th>\n",
       "      <th>Speed</th>\n",
       "      <th>Total</th>\n",
       "      <th>Color</th>\n",
       "      <th>hasGender</th>\n",
       "      <th>Pr_Male</th>\n",
       "      <th>Egg_Group_1</th>\n",
       "      <th>Egg_Group_2</th>\n",
       "      <th>hasMegaEvolution</th>\n",
       "      <th>Height_m</th>\n",
       "      <th>Weight_kg</th>\n",
       "      <th>Catch_Rate</th>\n",
       "      <th>Body_Style</th>\n",
       "    </tr>\n",
       "  </thead>\n",
       "  <tbody>\n",
       "    <tr>\n",
       "      <th>0</th>\n",
       "      <td>1</td>\n",
       "      <td>45</td>\n",
       "      <td>49</td>\n",
       "      <td>49</td>\n",
       "      <td>65</td>\n",
       "      <td>65</td>\n",
       "      <td>45</td>\n",
       "      <td>318</td>\n",
       "      <td>Green</td>\n",
       "      <td>True</td>\n",
       "      <td>0.875</td>\n",
       "      <td>Monster</td>\n",
       "      <td>Grass</td>\n",
       "      <td>False</td>\n",
       "      <td>0.71</td>\n",
       "      <td>6.9</td>\n",
       "      <td>45</td>\n",
       "      <td>quadruped</td>\n",
       "    </tr>\n",
       "    <tr>\n",
       "      <th>1</th>\n",
       "      <td>2</td>\n",
       "      <td>60</td>\n",
       "      <td>62</td>\n",
       "      <td>63</td>\n",
       "      <td>80</td>\n",
       "      <td>80</td>\n",
       "      <td>60</td>\n",
       "      <td>405</td>\n",
       "      <td>Green</td>\n",
       "      <td>True</td>\n",
       "      <td>0.875</td>\n",
       "      <td>Monster</td>\n",
       "      <td>Grass</td>\n",
       "      <td>False</td>\n",
       "      <td>0.99</td>\n",
       "      <td>13.0</td>\n",
       "      <td>45</td>\n",
       "      <td>quadruped</td>\n",
       "    </tr>\n",
       "    <tr>\n",
       "      <th>2</th>\n",
       "      <td>3</td>\n",
       "      <td>80</td>\n",
       "      <td>82</td>\n",
       "      <td>83</td>\n",
       "      <td>100</td>\n",
       "      <td>100</td>\n",
       "      <td>80</td>\n",
       "      <td>525</td>\n",
       "      <td>Green</td>\n",
       "      <td>True</td>\n",
       "      <td>0.875</td>\n",
       "      <td>Monster</td>\n",
       "      <td>Grass</td>\n",
       "      <td>True</td>\n",
       "      <td>2.01</td>\n",
       "      <td>100.0</td>\n",
       "      <td>45</td>\n",
       "      <td>quadruped</td>\n",
       "    </tr>\n",
       "    <tr>\n",
       "      <th>3</th>\n",
       "      <td>4</td>\n",
       "      <td>39</td>\n",
       "      <td>52</td>\n",
       "      <td>43</td>\n",
       "      <td>60</td>\n",
       "      <td>50</td>\n",
       "      <td>65</td>\n",
       "      <td>309</td>\n",
       "      <td>Red</td>\n",
       "      <td>True</td>\n",
       "      <td>0.875</td>\n",
       "      <td>Monster</td>\n",
       "      <td>Dragon</td>\n",
       "      <td>False</td>\n",
       "      <td>0.61</td>\n",
       "      <td>8.5</td>\n",
       "      <td>45</td>\n",
       "      <td>bipedal_tailed</td>\n",
       "    </tr>\n",
       "    <tr>\n",
       "      <th>4</th>\n",
       "      <td>5</td>\n",
       "      <td>58</td>\n",
       "      <td>64</td>\n",
       "      <td>58</td>\n",
       "      <td>80</td>\n",
       "      <td>65</td>\n",
       "      <td>80</td>\n",
       "      <td>405</td>\n",
       "      <td>Red</td>\n",
       "      <td>True</td>\n",
       "      <td>0.875</td>\n",
       "      <td>Monster</td>\n",
       "      <td>Dragon</td>\n",
       "      <td>False</td>\n",
       "      <td>1.09</td>\n",
       "      <td>19.0</td>\n",
       "      <td>45</td>\n",
       "      <td>bipedal_tailed</td>\n",
       "    </tr>\n",
       "  </tbody>\n",
       "</table>\n",
       "</div>"
      ],
      "text/plain": [
       "   id  HP  Attack  Defense  Sp_Atk  Sp_Def  Speed  Total  Color  hasGender  \\\n",
       "0   1  45      49       49      65      65     45    318  Green       True   \n",
       "1   2  60      62       63      80      80     60    405  Green       True   \n",
       "2   3  80      82       83     100     100     80    525  Green       True   \n",
       "3   4  39      52       43      60      50     65    309    Red       True   \n",
       "4   5  58      64       58      80      65     80    405    Red       True   \n",
       "\n",
       "   Pr_Male Egg_Group_1 Egg_Group_2  hasMegaEvolution  Height_m  Weight_kg  \\\n",
       "0    0.875     Monster       Grass             False      0.71        6.9   \n",
       "1    0.875     Monster       Grass             False      0.99       13.0   \n",
       "2    0.875     Monster       Grass              True      2.01      100.0   \n",
       "3    0.875     Monster      Dragon             False      0.61        8.5   \n",
       "4    0.875     Monster      Dragon             False      1.09       19.0   \n",
       "\n",
       "   Catch_Rate      Body_Style  \n",
       "0          45       quadruped  \n",
       "1          45       quadruped  \n",
       "2          45       quadruped  \n",
       "3          45  bipedal_tailed  \n",
       "4          45  bipedal_tailed  "
      ]
     },
     "execution_count": 11,
     "metadata": {},
     "output_type": "execute_result"
    }
   ],
   "source": [
    "Statistics = pd.merge(data,Pokedex,on='id'\n",
    "                     ).loc[:, ['id', 'HP', 'Attack', 'Defense', 'Sp_Atk', 'Sp_Def', 'Speed','Total','Color','hasGender','Pr_Male','Egg_Group_1','Egg_Group_2','hasMegaEvolution','Height_m','Weight_kg','Catch_Rate','Body_Style']]\n",
    "Statistics.head(5)"
   ]
  },
  {
   "cell_type": "markdown",
   "metadata": {},
   "source": [
    "After that, our dataset become regular."
   ]
  },
  {
   "cell_type": "markdown",
   "metadata": {},
   "source": [
    "## 3-) Pokemon's statistics"
   ]
  },
  {
   "cell_type": "markdown",
   "metadata": {},
   "source": [
    "in the next step we look at the pokemon's numbers accordng to their generations;"
   ]
  },
  {
   "cell_type": "code",
   "execution_count": 12,
   "metadata": {},
   "outputs": [
    {
     "data": {
      "text/plain": [
       "<matplotlib.axes._subplots.AxesSubplot at 0x1b2d2377e48>"
      ]
     },
     "execution_count": 12,
     "metadata": {},
     "output_type": "execute_result"
    }
   ],
   "source": [
    "Pokedex.groupby('Generation').size().plot.bar()"
   ]
  },
  {
   "cell_type": "markdown",
   "metadata": {},
   "source": [
    "As you see, season that is odd numbers release more pokemon than season that even numbers if we compared both of them"
   ]
  },
  {
   "cell_type": "markdown",
   "metadata": {},
   "source": [
    "In the next step we look at the total number of type_1"
   ]
  },
  {
   "cell_type": "code",
   "execution_count": 13,
   "metadata": {},
   "outputs": [
    {
     "data": {
      "text/plain": [
       "<matplotlib.axes._subplots.AxesSubplot at 0x1b2d254ea58>"
      ]
     },
     "execution_count": 13,
     "metadata": {},
     "output_type": "execute_result"
    },
    {
     "data": {
      "image/png": "[encoded data removed]",
      "text/plain": [
       "<Figure size 432x288 with 1 Axes>"
      ]
     },
     "metadata": {
      "needs_background": "light"
     },
     "output_type": "display_data"
    }
   ],
   "source": [
    "Pokedex.groupby('Type_1').size().plot.bar()\n"
   ]
  },
  {
   "cell_type": "markdown",
   "metadata": {},
   "source": [
    "as you can see water type and normal type pokemon's size greater than others so in pokemon world you can see this types mostly"
   ]
  },
  {
   "cell_type": "markdown",
   "metadata": {},
   "source": [
    "After that we look at type_2's statistics"
   ]
  },
  {
   "cell_type": "code",
   "execution_count": 14,
   "metadata": {},
   "outputs": [
    {
     "data": {
      "text/plain": [
       "<matplotlib.axes._subplots.AxesSubplot at 0x1b2d1b55ef0>"
      ]
     },
     "execution_count": 14,
     "metadata": {},
     "output_type": "execute_result"
    },
    {
     "data": {
      "image/png": "[encoded data removed]",
      "text/plain": [
       "<Figure size 432x288 with 1 Axes>"
      ]
     },
     "metadata": {
      "needs_background": "light"
     },
     "output_type": "display_data"
    }
   ],
   "source": [
    "Pokedex.groupby('Type_2').size().plot.bar()"
   ]
  },
  {
   "cell_type": "markdown",
   "metadata": {},
   "source": [
    "as you can see most pokemon doesn't have second type also mostly flying type pokemon has two types"
   ]
  },
  {
   "cell_type": "markdown",
   "metadata": {},
   "source": [
    "When we compare the seasons in season 4,5 and 6 we saw that the common pokemon type has changed. In season 4;"
   ]
  },
  {
   "cell_type": "code",
   "execution_count": 15,
   "metadata": {},
   "outputs": [
    {
     "data": {
      "text/plain": [
       "<matplotlib.axes._subplots.AxesSubplot at 0x1b2d2a8e3c8>"
      ]
     },
     "execution_count": 15,
     "metadata": {},
     "output_type": "execute_result"
    },
    {
     "data": {
      "image/png": "[encoded data removed]",
      "text/plain": [
       "<Figure size 432x288 with 1 Axes>"
      ]
     },
     "metadata": {
      "needs_background": "light"
     },
     "output_type": "display_data"
    }
   ],
   "source": [
    "Pokedex[Pokedex.Generation==4].groupby('Type_1').size().plot.bar()"
   ]
  },
  {
   "cell_type": "markdown",
   "metadata": {},
   "source": [
    "as we see the figure in season 4 normal type pokemons are common but in season 5 it is also changed in season 5;"
   ]
  },
  {
   "cell_type": "code",
   "execution_count": 16,
   "metadata": {},
   "outputs": [
    {
     "data": {
      "text/plain": [
       "<matplotlib.axes._subplots.AxesSubplot at 0x1b2d2b79128>"
      ]
     },
     "execution_count": 16,
     "metadata": {},
     "output_type": "execute_result"
    },
    {
     "data": {
      "image/png": "[encoded data removed]",
      "text/plain": [
       "<Figure size 432x288 with 1 Axes>"
      ]
     },
     "metadata": {
      "needs_background": "light"
     },
     "output_type": "display_data"
    }
   ],
   "source": [
    "Pokedex[Pokedex.Generation==5].groupby('Type_1').size().plot.bar()"
   ]
  },
  {
   "cell_type": "markdown",
   "metadata": {},
   "source": [
    "as we see the figure at the top in season 5 bug type pokemons are common but in season 6 it is also changed in season 6;"
   ]
  },
  {
   "cell_type": "code",
   "execution_count": 17,
   "metadata": {},
   "outputs": [
    {
     "data": {
      "text/plain": [
       "<matplotlib.axes._subplots.AxesSubplot at 0x1b2d2c0e748>"
      ]
     },
     "execution_count": 17,
     "metadata": {},
     "output_type": "execute_result"
    },
    {
     "data": {
      "image/png": "[encoded data removed]",
      "text/plain": [
       "<Figure size 432x288 with 1 Axes>"
      ]
     },
     "metadata": {
      "needs_background": "light"
     },
     "output_type": "display_data"
    }
   ],
   "source": [
    "Pokedex[Pokedex.Generation==6].groupby('Type_1').size().plot.bar()"
   ]
  },
  {
   "cell_type": "markdown",
   "metadata": {},
   "source": [
    "also in season 6 fairy type pokemons are common but if we look at the total in pokemon world there are mostly water type pokemon"
   ]
  },
  {
   "cell_type": "markdown",
   "metadata": {},
   "source": [
    "## 4-) Pokemons Gender"
   ]
  },
  {
   "cell_type": "markdown",
   "metadata": {},
   "source": [
    "    In our dataset, pokemon's gender is exist so in this part we are looking at the gender statistics of pokemons"
   ]
  },
  {
   "cell_type": "code",
   "execution_count": 66,
   "metadata": {},
   "outputs": [
    {
     "data": {
      "text/plain": [
       "<matplotlib.axes._subplots.AxesSubplot at 0x1b2d4ecfdd8>"
      ]
     },
     "execution_count": 66,
     "metadata": {},
     "output_type": "execute_result"
    },
    {
     "data": {
      "image/png": "[encoded data removed]",
      "text/plain": [
       "<Figure size 432x288 with 1 Axes>"
      ]
     },
     "metadata": {
      "needs_background": "light"
     },
     "output_type": "display_data"
    }
   ],
   "source": [
    "Pokedex[Statistics.hasGender==True].groupby('Type_1').size().plot.bar()"
   ]
  },
  {
   "cell_type": "markdown",
   "metadata": {},
   "source": [
    "as we saw in the figure water type pokemon has gender at most and if we are looking at the pokemon which doesn't have gender;"
   ]
  },
  {
   "cell_type": "code",
   "execution_count": 19,
   "metadata": {},
   "outputs": [
    {
     "data": {
      "text/plain": [
       "<matplotlib.axes._subplots.AxesSubplot at 0x1b2d3d11b70>"
      ]
     },
     "execution_count": 19,
     "metadata": {},
     "output_type": "execute_result"
    },
    {
     "data": {
      "image/png": "[encoded data removed]",
      "text/plain": [
       "<Figure size 432x288 with 1 Axes>"
      ]
     },
     "metadata": {
      "needs_background": "light"
     },
     "output_type": "display_data"
    }
   ],
   "source": [
    "Pokedex[Statistics.hasGender==False].groupby('Type_1').size().plot.bar()"
   ]
  },
  {
   "cell_type": "markdown",
   "metadata": {},
   "source": [
    "In the figure we saw that mostly steel type pokemon doesn't have gender and if we are looking at the possibility of being male;"
   ]
  },
  {
   "cell_type": "code",
   "execution_count": 20,
   "metadata": {},
   "outputs": [
    {
     "data": {
      "text/plain": [
       "<matplotlib.axes._subplots.AxesSubplot at 0x1b2d3d9bda0>"
      ]
     },
     "execution_count": 20,
     "metadata": {},
     "output_type": "execute_result"
    },
    {
     "data": {
      "image/png": "[encoded data removed]",
      "text/plain": [
       "<Figure size 432x288 with 1 Axes>"
      ]
     },
     "metadata": {
      "needs_background": "light"
     },
     "output_type": "display_data"
    }
   ],
   "source": [
    "Pokedex[Statistics.Pr_Male==Statistics.Pr_Male.max()].groupby('Type_1').size().plot.bar()"
   ]
  },
  {
   "cell_type": "markdown",
   "metadata": {},
   "source": [
    "as we saw that fighting type pokemons' gender mostly male and if we are looking at the being female"
   ]
  },
  {
   "cell_type": "code",
   "execution_count": 21,
   "metadata": {},
   "outputs": [
    {
     "data": {
      "text/plain": [
       "<matplotlib.axes._subplots.AxesSubplot at 0x1b2d3d9bcc0>"
      ]
     },
     "execution_count": 21,
     "metadata": {},
     "output_type": "execute_result"
    },
    {
     "data": {
      "image/png": "[encoded data removed]",
      "text/plain": [
       "<Figure size 432x288 with 1 Axes>"
      ]
     },
     "metadata": {
      "needs_background": "light"
     },
     "output_type": "display_data"
    }
   ],
   "source": [
    "Pokedex[Statistics.Pr_Male==Statistics.Pr_Male.min()].groupby('Type_1').size().plot.bar()"
   ]
  },
  {
   "cell_type": "markdown",
   "metadata": {},
   "source": [
    "as in the figure shown Normal type pokemons mostly born as female"
   ]
  },
  {
   "cell_type": "markdown",
   "metadata": {},
   "source": [
    "## 5-) The most catchable pokemon"
   ]
  },
  {
   "cell_type": "markdown",
   "metadata": {},
   "source": [
    "In this part we are looking at the pokemon which can catch easier but first we are looking at the types"
   ]
  },
  {
   "cell_type": "code",
   "execution_count": 22,
   "metadata": {},
   "outputs": [
    {
     "data": {
      "text/plain": [
       "<matplotlib.axes._subplots.AxesSubplot at 0x1b2d3e7a9b0>"
      ]
     },
     "execution_count": 22,
     "metadata": {},
     "output_type": "execute_result"
    },
    {
     "data": {
      "image/png": "[encoded data removed]",
      "text/plain": [
       "<Figure size 432x288 with 1 Axes>"
      ]
     },
     "metadata": {
      "needs_background": "light"
     },
     "output_type": "display_data"
    }
   ],
   "source": [
    "Pokedex[Statistics.Catch_Rate==Statistics.Catch_Rate.max()].groupby('Type_1').size().plot.bar()"
   ]
  },
  {
   "cell_type": "markdown",
   "metadata": {},
   "source": [
    "as in the figure Normal type pokemons can be catch easier but we wonder the opposite of this so;"
   ]
  },
  {
   "cell_type": "code",
   "execution_count": 23,
   "metadata": {},
   "outputs": [
    {
     "data": {
      "text/plain": [
       "<matplotlib.axes._subplots.AxesSubplot at 0x1b2d3e5a358>"
      ]
     },
     "execution_count": 23,
     "metadata": {},
     "output_type": "execute_result"
    },
    {
     "data": {
      "image/png": "[encoded data removed]",
      "text/plain": [
       "<Figure size 432x288 with 1 Axes>"
      ]
     },
     "metadata": {
      "needs_background": "light"
     },
     "output_type": "display_data"
    }
   ],
   "source": [
    "Pokedex[Statistics.Catch_Rate==Statistics.Catch_Rate.min()].groupby('Type_1').size().plot.bar()"
   ]
  },
  {
   "cell_type": "markdown",
   "metadata": {},
   "source": [
    "if we look at the figure psychic type pokemons can be catch harder and if we looking at their names;"
   ]
  },
  {
   "cell_type": "code",
   "execution_count": 24,
   "metadata": {},
   "outputs": [
    {
     "data": {
      "text/html": [
       "<div>\n",
       "<style scoped>\n",
       "    .dataframe tbody tr th:only-of-type {\n",
       "        vertical-align: middle;\n",
       "    }\n",
       "\n",
       "    .dataframe tbody tr th {\n",
       "        vertical-align: top;\n",
       "    }\n",
       "\n",
       "    .dataframe thead th {\n",
       "        text-align: right;\n",
       "    }\n",
       "</style>\n",
       "<table border=\"1\" class=\"dataframe\">\n",
       "  <thead>\n",
       "    <tr style=\"text-align: right;\">\n",
       "      <th></th>\n",
       "      <th>id</th>\n",
       "      <th>Name</th>\n",
       "      <th>Type_1</th>\n",
       "      <th>Type_2</th>\n",
       "      <th>Generation</th>\n",
       "      <th>isLegendary</th>\n",
       "    </tr>\n",
       "  </thead>\n",
       "  <tbody>\n",
       "    <tr>\n",
       "      <th>9</th>\n",
       "      <td>10</td>\n",
       "      <td>Caterpie</td>\n",
       "      <td>Bug</td>\n",
       "      <td>None</td>\n",
       "      <td>1</td>\n",
       "      <td>False</td>\n",
       "    </tr>\n",
       "    <tr>\n",
       "      <th>12</th>\n",
       "      <td>13</td>\n",
       "      <td>Weedle</td>\n",
       "      <td>Bug</td>\n",
       "      <td>Poison</td>\n",
       "      <td>1</td>\n",
       "      <td>False</td>\n",
       "    </tr>\n",
       "    <tr>\n",
       "      <th>15</th>\n",
       "      <td>16</td>\n",
       "      <td>Pidgey</td>\n",
       "      <td>Normal</td>\n",
       "      <td>Flying</td>\n",
       "      <td>1</td>\n",
       "      <td>False</td>\n",
       "    </tr>\n",
       "    <tr>\n",
       "      <th>18</th>\n",
       "      <td>19</td>\n",
       "      <td>Rattata</td>\n",
       "      <td>Normal</td>\n",
       "      <td>None</td>\n",
       "      <td>1</td>\n",
       "      <td>False</td>\n",
       "    </tr>\n",
       "    <tr>\n",
       "      <th>20</th>\n",
       "      <td>21</td>\n",
       "      <td>Spearow</td>\n",
       "      <td>Normal</td>\n",
       "      <td>Flying</td>\n",
       "      <td>1</td>\n",
       "      <td>False</td>\n",
       "    </tr>\n",
       "  </tbody>\n",
       "</table>\n",
       "</div>"
      ],
      "text/plain": [
       "    id      Name  Type_1  Type_2  Generation  isLegendary\n",
       "9   10  Caterpie     Bug    None           1        False\n",
       "12  13    Weedle     Bug  Poison           1        False\n",
       "15  16    Pidgey  Normal  Flying           1        False\n",
       "18  19   Rattata  Normal    None           1        False\n",
       "20  21   Spearow  Normal  Flying           1        False"
      ]
     },
     "execution_count": 24,
     "metadata": {},
     "output_type": "execute_result"
    }
   ],
   "source": [
    "Pokedex[Statistics.Catch_Rate==Statistics.Catch_Rate.max()].head()"
   ]
  },
  {
   "cell_type": "markdown",
   "metadata": {},
   "source": [
    "also we wonder their numbers so;"
   ]
  },
  {
   "cell_type": "code",
   "execution_count": 25,
   "metadata": {},
   "outputs": [
    {
     "name": "stdout",
     "output_type": "stream",
     "text": [
      "The number of pokemon which can be catch easier: 64\n"
     ]
    }
   ],
   "source": [
    "print(\"The number of pokemon which can be catch easier:\", Pokedex['id'][Statistics.Catch_Rate==Statistics.Catch_Rate.max()].count())"
   ]
  },
  {
   "cell_type": "markdown",
   "metadata": {},
   "source": [
    "Also we wonder the pokemons which can be catched hardly "
   ]
  },
  {
   "cell_type": "code",
   "execution_count": 26,
   "metadata": {},
   "outputs": [
    {
     "data": {
      "text/html": [
       "<div>\n",
       "<style scoped>\n",
       "    .dataframe tbody tr th:only-of-type {\n",
       "        vertical-align: middle;\n",
       "    }\n",
       "\n",
       "    .dataframe tbody tr th {\n",
       "        vertical-align: top;\n",
       "    }\n",
       "\n",
       "    .dataframe thead th {\n",
       "        text-align: right;\n",
       "    }\n",
       "</style>\n",
       "<table border=\"1\" class=\"dataframe\">\n",
       "  <thead>\n",
       "    <tr style=\"text-align: right;\">\n",
       "      <th></th>\n",
       "      <th>id</th>\n",
       "      <th>Name</th>\n",
       "      <th>Type_1</th>\n",
       "      <th>Type_2</th>\n",
       "      <th>Generation</th>\n",
       "      <th>isLegendary</th>\n",
       "    </tr>\n",
       "  </thead>\n",
       "  <tbody>\n",
       "    <tr>\n",
       "      <th>143</th>\n",
       "      <td>144</td>\n",
       "      <td>Articuno</td>\n",
       "      <td>Ice</td>\n",
       "      <td>Flying</td>\n",
       "      <td>1</td>\n",
       "      <td>True</td>\n",
       "    </tr>\n",
       "    <tr>\n",
       "      <th>144</th>\n",
       "      <td>145</td>\n",
       "      <td>Zapdos</td>\n",
       "      <td>Electric</td>\n",
       "      <td>Flying</td>\n",
       "      <td>1</td>\n",
       "      <td>True</td>\n",
       "    </tr>\n",
       "    <tr>\n",
       "      <th>145</th>\n",
       "      <td>146</td>\n",
       "      <td>Moltres</td>\n",
       "      <td>Fire</td>\n",
       "      <td>Flying</td>\n",
       "      <td>1</td>\n",
       "      <td>True</td>\n",
       "    </tr>\n",
       "    <tr>\n",
       "      <th>149</th>\n",
       "      <td>150</td>\n",
       "      <td>Mewtwo</td>\n",
       "      <td>Psychic</td>\n",
       "      <td>None</td>\n",
       "      <td>1</td>\n",
       "      <td>True</td>\n",
       "    </tr>\n",
       "    <tr>\n",
       "      <th>242</th>\n",
       "      <td>243</td>\n",
       "      <td>Raikou</td>\n",
       "      <td>Electric</td>\n",
       "      <td>None</td>\n",
       "      <td>2</td>\n",
       "      <td>True</td>\n",
       "    </tr>\n",
       "  </tbody>\n",
       "</table>\n",
       "</div>"
      ],
      "text/plain": [
       "      id      Name    Type_1  Type_2  Generation  isLegendary\n",
       "143  144  Articuno       Ice  Flying           1         True\n",
       "144  145    Zapdos  Electric  Flying           1         True\n",
       "145  146   Moltres      Fire  Flying           1         True\n",
       "149  150    Mewtwo   Psychic    None           1         True\n",
       "242  243    Raikou  Electric    None           2         True"
      ]
     },
     "execution_count": 26,
     "metadata": {},
     "output_type": "execute_result"
    }
   ],
   "source": [
    "Pokedex[Statistics.Catch_Rate==Statistics.Catch_Rate.min()].head()"
   ]
  },
  {
   "cell_type": "markdown",
   "metadata": {},
   "source": [
    "and we saw that legendary pokemons can be catched harly but also we wonder their numbers"
   ]
  },
  {
   "cell_type": "code",
   "execution_count": 27,
   "metadata": {},
   "outputs": [
    {
     "name": "stdout",
     "output_type": "stream",
     "text": [
      "The number of pokemon which can be catch harder: 50\n"
     ]
    }
   ],
   "source": [
    "print(\"The number of pokemon which can be catch harder:\", Pokedex['id'][Statistics.Catch_Rate==Statistics.Catch_Rate.min()].count())"
   ]
  },
  {
   "cell_type": "markdown",
   "metadata": {},
   "source": [
    "## 6-) The most strongest Pokemon"
   ]
  },
  {
   "cell_type": "markdown",
   "metadata": {},
   "source": [
    "In this part we are searching the strongest pokemon when we do that we use z-score that can calculate like zi=xi-x/s but first we collect the data in a table"
   ]
  },
  {
   "cell_type": "code",
   "execution_count": 28,
   "metadata": {},
   "outputs": [
    {
     "data": {
      "text/html": [
       "<div>\n",
       "<style scoped>\n",
       "    .dataframe tbody tr th:only-of-type {\n",
       "        vertical-align: middle;\n",
       "    }\n",
       "\n",
       "    .dataframe tbody tr th {\n",
       "        vertical-align: top;\n",
       "    }\n",
       "\n",
       "    .dataframe thead th {\n",
       "        text-align: right;\n",
       "    }\n",
       "</style>\n",
       "<table border=\"1\" class=\"dataframe\">\n",
       "  <thead>\n",
       "    <tr style=\"text-align: right;\">\n",
       "      <th></th>\n",
       "      <th>id</th>\n",
       "      <th>Name</th>\n",
       "      <th>Type_1</th>\n",
       "      <th>Type_2</th>\n",
       "      <th>Generation</th>\n",
       "      <th>isLegendary</th>\n",
       "      <th>HP</th>\n",
       "      <th>Attack</th>\n",
       "      <th>Defense</th>\n",
       "      <th>Sp_Atk</th>\n",
       "      <th>...</th>\n",
       "      <th>Color</th>\n",
       "      <th>hasGender</th>\n",
       "      <th>Pr_Male</th>\n",
       "      <th>Egg_Group_1</th>\n",
       "      <th>Egg_Group_2</th>\n",
       "      <th>hasMegaEvolution</th>\n",
       "      <th>Height_m</th>\n",
       "      <th>Weight_kg</th>\n",
       "      <th>Catch_Rate</th>\n",
       "      <th>Body_Style</th>\n",
       "    </tr>\n",
       "  </thead>\n",
       "  <tbody>\n",
       "    <tr>\n",
       "      <th>492</th>\n",
       "      <td>493</td>\n",
       "      <td>Arceus</td>\n",
       "      <td>Normal</td>\n",
       "      <td>None</td>\n",
       "      <td>4</td>\n",
       "      <td>True</td>\n",
       "      <td>120</td>\n",
       "      <td>120</td>\n",
       "      <td>120</td>\n",
       "      <td>120</td>\n",
       "      <td>...</td>\n",
       "      <td>Grey</td>\n",
       "      <td>False</td>\n",
       "      <td>NaN</td>\n",
       "      <td>Undiscovered</td>\n",
       "      <td>None</td>\n",
       "      <td>False</td>\n",
       "      <td>3.20</td>\n",
       "      <td>320.0</td>\n",
       "      <td>3</td>\n",
       "      <td>quadruped</td>\n",
       "    </tr>\n",
       "    <tr>\n",
       "      <th>643</th>\n",
       "      <td>644</td>\n",
       "      <td>Zekrom</td>\n",
       "      <td>Dragon</td>\n",
       "      <td>Electric</td>\n",
       "      <td>5</td>\n",
       "      <td>True</td>\n",
       "      <td>100</td>\n",
       "      <td>150</td>\n",
       "      <td>120</td>\n",
       "      <td>120</td>\n",
       "      <td>...</td>\n",
       "      <td>Black</td>\n",
       "      <td>False</td>\n",
       "      <td>NaN</td>\n",
       "      <td>Undiscovered</td>\n",
       "      <td>None</td>\n",
       "      <td>False</td>\n",
       "      <td>2.90</td>\n",
       "      <td>345.0</td>\n",
       "      <td>3</td>\n",
       "      <td>bipedal_tailed</td>\n",
       "    </tr>\n",
       "    <tr>\n",
       "      <th>486</th>\n",
       "      <td>487</td>\n",
       "      <td>Giratina</td>\n",
       "      <td>Ghost</td>\n",
       "      <td>Dragon</td>\n",
       "      <td>4</td>\n",
       "      <td>True</td>\n",
       "      <td>150</td>\n",
       "      <td>120</td>\n",
       "      <td>100</td>\n",
       "      <td>120</td>\n",
       "      <td>...</td>\n",
       "      <td>Black</td>\n",
       "      <td>False</td>\n",
       "      <td>NaN</td>\n",
       "      <td>Undiscovered</td>\n",
       "      <td>None</td>\n",
       "      <td>False</td>\n",
       "      <td>6.91</td>\n",
       "      <td>650.0</td>\n",
       "      <td>3</td>\n",
       "      <td>serpentine_body</td>\n",
       "    </tr>\n",
       "    <tr>\n",
       "      <th>249</th>\n",
       "      <td>250</td>\n",
       "      <td>Ho-Oh</td>\n",
       "      <td>Fire</td>\n",
       "      <td>Flying</td>\n",
       "      <td>2</td>\n",
       "      <td>True</td>\n",
       "      <td>106</td>\n",
       "      <td>130</td>\n",
       "      <td>90</td>\n",
       "      <td>110</td>\n",
       "      <td>...</td>\n",
       "      <td>Red</td>\n",
       "      <td>False</td>\n",
       "      <td>NaN</td>\n",
       "      <td>Undiscovered</td>\n",
       "      <td>None</td>\n",
       "      <td>False</td>\n",
       "      <td>3.81</td>\n",
       "      <td>199.0</td>\n",
       "      <td>3</td>\n",
       "      <td>two_wings</td>\n",
       "    </tr>\n",
       "    <tr>\n",
       "      <th>248</th>\n",
       "      <td>249</td>\n",
       "      <td>Lugia</td>\n",
       "      <td>Psychic</td>\n",
       "      <td>Flying</td>\n",
       "      <td>2</td>\n",
       "      <td>True</td>\n",
       "      <td>106</td>\n",
       "      <td>90</td>\n",
       "      <td>130</td>\n",
       "      <td>90</td>\n",
       "      <td>...</td>\n",
       "      <td>White</td>\n",
       "      <td>False</td>\n",
       "      <td>NaN</td>\n",
       "      <td>Undiscovered</td>\n",
       "      <td>None</td>\n",
       "      <td>False</td>\n",
       "      <td>5.21</td>\n",
       "      <td>216.0</td>\n",
       "      <td>3</td>\n",
       "      <td>two_wings</td>\n",
       "    </tr>\n",
       "  </tbody>\n",
       "</table>\n",
       "<p>5 rows × 23 columns</p>\n",
       "</div>"
      ],
      "text/plain": [
       "      id      Name   Type_1    Type_2  Generation  isLegendary   HP  Attack  \\\n",
       "492  493    Arceus   Normal      None           4         True  120     120   \n",
       "643  644    Zekrom   Dragon  Electric           5         True  100     150   \n",
       "486  487  Giratina    Ghost    Dragon           4         True  150     120   \n",
       "249  250     Ho-Oh     Fire    Flying           2         True  106     130   \n",
       "248  249     Lugia  Psychic    Flying           2         True  106      90   \n",
       "\n",
       "     Defense  Sp_Atk       ...         Color  hasGender  Pr_Male  \\\n",
       "492      120     120       ...          Grey      False      NaN   \n",
       "643      120     120       ...         Black      False      NaN   \n",
       "486      100     120       ...         Black      False      NaN   \n",
       "249       90     110       ...           Red      False      NaN   \n",
       "248      130      90       ...         White      False      NaN   \n",
       "\n",
       "      Egg_Group_1  Egg_Group_2  hasMegaEvolution Height_m Weight_kg  \\\n",
       "492  Undiscovered         None             False     3.20     320.0   \n",
       "643  Undiscovered         None             False     2.90     345.0   \n",
       "486  Undiscovered         None             False     6.91     650.0   \n",
       "249  Undiscovered         None             False     3.81     199.0   \n",
       "248  Undiscovered         None             False     5.21     216.0   \n",
       "\n",
       "     Catch_Rate       Body_Style  \n",
       "492           3        quadruped  \n",
       "643           3   bipedal_tailed  \n",
       "486           3  serpentine_body  \n",
       "249           3        two_wings  \n",
       "248           3        two_wings  \n",
       "\n",
       "[5 rows x 23 columns]"
      ]
     },
     "execution_count": 28,
     "metadata": {},
     "output_type": "execute_result"
    }
   ],
   "source": [
    "Powerful=pd.merge(Pokedex, Statistics, on='id').sort_values('Total', ascending=False)\n",
    "Pokemon_stats= Powerful.loc[:, ['id', 'HP', 'Attack', 'Defense', 'Sp_Atk', 'Sp_Def', 'Speed','Total','Height_m','Weight_kg']]\n",
    "Statistics.head(5)\n",
    "Powerful.head()"
   ]
  },
  {
   "cell_type": "markdown",
   "metadata": {},
   "source": [
    "After that we apply z score on the Pokemon_stats"
   ]
  },
  {
   "cell_type": "code",
   "execution_count": 29,
   "metadata": {},
   "outputs": [],
   "source": [
    "stats = Pokemon_stats.drop('Total', axis='columns').set_index('id').apply(lambda x: (x - x.mean()) / x.std())\n",
    "stats['Str'] = stats.sum(axis='columns')\n"
   ]
  },
  {
   "cell_type": "markdown",
   "metadata": {},
   "source": [
    "After that we sort our data according to pokemons strength"
   ]
  },
  {
   "cell_type": "code",
   "execution_count": 30,
   "metadata": {
    "scrolled": true
   },
   "outputs": [
    {
     "data": {
      "text/html": [
       "<div>\n",
       "<style scoped>\n",
       "    .dataframe tbody tr th:only-of-type {\n",
       "        vertical-align: middle;\n",
       "    }\n",
       "\n",
       "    .dataframe tbody tr th {\n",
       "        vertical-align: top;\n",
       "    }\n",
       "\n",
       "    .dataframe thead th {\n",
       "        text-align: right;\n",
       "    }\n",
       "</style>\n",
       "<table border=\"1\" class=\"dataframe\">\n",
       "  <thead>\n",
       "    <tr style=\"text-align: right;\">\n",
       "      <th></th>\n",
       "      <th>id</th>\n",
       "      <th>Name</th>\n",
       "      <th>Type_1</th>\n",
       "      <th>Type_2</th>\n",
       "      <th>Generation</th>\n",
       "      <th>isLegendary</th>\n",
       "      <th>HP</th>\n",
       "      <th>Attack</th>\n",
       "      <th>Defense</th>\n",
       "      <th>Sp_Atk</th>\n",
       "      <th>Sp_Def</th>\n",
       "      <th>Speed</th>\n",
       "      <th>Height_m</th>\n",
       "      <th>Weight_kg</th>\n",
       "      <th>Str</th>\n",
       "    </tr>\n",
       "  </thead>\n",
       "  <tbody>\n",
       "    <tr>\n",
       "      <th>486</th>\n",
       "      <td>487</td>\n",
       "      <td>Giratina</td>\n",
       "      <td>Ghost</td>\n",
       "      <td>Dragon</td>\n",
       "      <td>4</td>\n",
       "      <td>True</td>\n",
       "      <td>3.157657</td>\n",
       "      <td>1.552077</td>\n",
       "      <td>0.996411</td>\n",
       "      <td>1.780677</td>\n",
       "      <td>1.136693</td>\n",
       "      <td>0.890307</td>\n",
       "      <td>5.520102</td>\n",
       "      <td>6.658311</td>\n",
       "      <td>21.692233</td>\n",
       "    </tr>\n",
       "    <tr>\n",
       "      <th>382</th>\n",
       "      <td>383</td>\n",
       "      <td>Groudon</td>\n",
       "      <td>Ground</td>\n",
       "      <td>None</td>\n",
       "      <td>3</td>\n",
       "      <td>True</td>\n",
       "      <td>1.223292</td>\n",
       "      <td>2.587114</td>\n",
       "      <td>2.361759</td>\n",
       "      <td>1.085943</td>\n",
       "      <td>0.766540</td>\n",
       "      <td>0.890307</td>\n",
       "      <td>2.264546</td>\n",
       "      <td>10.025478</td>\n",
       "      <td>21.204978</td>\n",
       "    </tr>\n",
       "    <tr>\n",
       "      <th>482</th>\n",
       "      <td>483</td>\n",
       "      <td>Dialga</td>\n",
       "      <td>Steel</td>\n",
       "      <td>Dragon</td>\n",
       "      <td>4</td>\n",
       "      <td>True</td>\n",
       "      <td>1.223292</td>\n",
       "      <td>1.552077</td>\n",
       "      <td>1.679085</td>\n",
       "      <td>2.822778</td>\n",
       "      <td>1.136693</td>\n",
       "      <td>0.890307</td>\n",
       "      <td>4.083827</td>\n",
       "      <td>7.028699</td>\n",
       "      <td>20.416757</td>\n",
       "    </tr>\n",
       "    <tr>\n",
       "      <th>320</th>\n",
       "      <td>321</td>\n",
       "      <td>Wailord</td>\n",
       "      <td>Water</td>\n",
       "      <td>None</td>\n",
       "      <td>3</td>\n",
       "      <td>False</td>\n",
       "      <td>3.931403</td>\n",
       "      <td>0.517040</td>\n",
       "      <td>-0.880943</td>\n",
       "      <td>0.738576</td>\n",
       "      <td>-0.899148</td>\n",
       "      <td>-0.209484</td>\n",
       "      <td>12.787652</td>\n",
       "      <td>3.829890</td>\n",
       "      <td>19.814986</td>\n",
       "    </tr>\n",
       "    <tr>\n",
       "      <th>383</th>\n",
       "      <td>384</td>\n",
       "      <td>Rayquaza</td>\n",
       "      <td>Dragon</td>\n",
       "      <td>Flying</td>\n",
       "      <td>3</td>\n",
       "      <td>True</td>\n",
       "      <td>1.416728</td>\n",
       "      <td>2.587114</td>\n",
       "      <td>0.655074</td>\n",
       "      <td>2.822778</td>\n",
       "      <td>0.766540</td>\n",
       "      <td>1.073605</td>\n",
       "      <td>5.615854</td>\n",
       "      <td>1.680515</td>\n",
       "      <td>16.618207</td>\n",
       "    </tr>\n",
       "  </tbody>\n",
       "</table>\n",
       "</div>"
      ],
      "text/plain": [
       "      id      Name  Type_1  Type_2  Generation  isLegendary        HP  \\\n",
       "486  487  Giratina   Ghost  Dragon           4         True  3.157657   \n",
       "382  383   Groudon  Ground    None           3         True  1.223292   \n",
       "482  483    Dialga   Steel  Dragon           4         True  1.223292   \n",
       "320  321   Wailord   Water    None           3        False  3.931403   \n",
       "383  384  Rayquaza  Dragon  Flying           3         True  1.416728   \n",
       "\n",
       "       Attack   Defense    Sp_Atk    Sp_Def     Speed   Height_m  Weight_kg  \\\n",
       "486  1.552077  0.996411  1.780677  1.136693  0.890307   5.520102   6.658311   \n",
       "382  2.587114  2.361759  1.085943  0.766540  0.890307   2.264546  10.025478   \n",
       "482  1.552077  1.679085  2.822778  1.136693  0.890307   4.083827   7.028699   \n",
       "320  0.517040 -0.880943  0.738576 -0.899148 -0.209484  12.787652   3.829890   \n",
       "383  2.587114  0.655074  2.822778  0.766540  1.073605   5.615854   1.680515   \n",
       "\n",
       "           Str  \n",
       "486  21.692233  \n",
       "382  21.204978  \n",
       "482  20.416757  \n",
       "320  19.814986  \n",
       "383  16.618207  "
      ]
     },
     "execution_count": 30,
     "metadata": {},
     "output_type": "execute_result"
    }
   ],
   "source": [
    "stats.reset_index(inplace=True)\n",
    "Powerfulstats=pd.merge(Pokedex, stats, on='id').sort_values('Str', ascending=False)\n",
    "Powerfulstats.head(5)"
   ]
  },
  {
   "cell_type": "markdown",
   "metadata": {},
   "source": [
    "Finally we found the most strongest pokemon and it is Giratina but also we wonder the opposite of it so we are searching the weakest pokemon"
   ]
  },
  {
   "cell_type": "code",
   "execution_count": 31,
   "metadata": {},
   "outputs": [
    {
     "data": {
      "text/html": [
       "<div>\n",
       "<style scoped>\n",
       "    .dataframe tbody tr th:only-of-type {\n",
       "        vertical-align: middle;\n",
       "    }\n",
       "\n",
       "    .dataframe tbody tr th {\n",
       "        vertical-align: top;\n",
       "    }\n",
       "\n",
       "    .dataframe thead th {\n",
       "        text-align: right;\n",
       "    }\n",
       "</style>\n",
       "<table border=\"1\" class=\"dataframe\">\n",
       "  <thead>\n",
       "    <tr style=\"text-align: right;\">\n",
       "      <th></th>\n",
       "      <th>id</th>\n",
       "      <th>Name</th>\n",
       "      <th>Type_1</th>\n",
       "      <th>Type_2</th>\n",
       "      <th>Generation</th>\n",
       "      <th>isLegendary</th>\n",
       "      <th>HP</th>\n",
       "      <th>Attack</th>\n",
       "      <th>Defense</th>\n",
       "      <th>Sp_Atk</th>\n",
       "      <th>Sp_Def</th>\n",
       "      <th>Speed</th>\n",
       "      <th>Height_m</th>\n",
       "      <th>Weight_kg</th>\n",
       "      <th>Str</th>\n",
       "    </tr>\n",
       "  </thead>\n",
       "  <tbody>\n",
       "    <tr>\n",
       "      <th>190</th>\n",
       "      <td>191</td>\n",
       "      <td>Sunkern</td>\n",
       "      <td>Grass</td>\n",
       "      <td>None</td>\n",
       "      <td>2</td>\n",
       "      <td>False</td>\n",
       "      <td>-1.484820</td>\n",
       "      <td>-1.553034</td>\n",
       "      <td>-1.392949</td>\n",
       "      <td>-1.345625</td>\n",
       "      <td>-1.454378</td>\n",
       "      <td>-1.309275</td>\n",
       "      <td>-0.809081</td>\n",
       "      <td>-0.617015</td>\n",
       "      <td>-9.966176</td>\n",
       "    </tr>\n",
       "    <tr>\n",
       "      <th>297</th>\n",
       "      <td>298</td>\n",
       "      <td>Azurill</td>\n",
       "      <td>Normal</td>\n",
       "      <td>Fairy</td>\n",
       "      <td>3</td>\n",
       "      <td>False</td>\n",
       "      <td>-0.711074</td>\n",
       "      <td>-1.898046</td>\n",
       "      <td>-1.051612</td>\n",
       "      <td>-1.692992</td>\n",
       "      <td>-1.084225</td>\n",
       "      <td>-1.675871</td>\n",
       "      <td>-0.904833</td>\n",
       "      <td>-0.614770</td>\n",
       "      <td>-9.633423</td>\n",
       "    </tr>\n",
       "    <tr>\n",
       "      <th>400</th>\n",
       "      <td>401</td>\n",
       "      <td>Kricketot</td>\n",
       "      <td>Bug</td>\n",
       "      <td>None</td>\n",
       "      <td>4</td>\n",
       "      <td>False</td>\n",
       "      <td>-1.214009</td>\n",
       "      <td>-1.725540</td>\n",
       "      <td>-1.017478</td>\n",
       "      <td>-1.519309</td>\n",
       "      <td>-1.047209</td>\n",
       "      <td>-1.492573</td>\n",
       "      <td>-0.809081</td>\n",
       "      <td>-0.612526</td>\n",
       "      <td>-9.437724</td>\n",
       "    </tr>\n",
       "    <tr>\n",
       "      <th>264</th>\n",
       "      <td>265</td>\n",
       "      <td>Wurmple</td>\n",
       "      <td>Bug</td>\n",
       "      <td>None</td>\n",
       "      <td>3</td>\n",
       "      <td>False</td>\n",
       "      <td>-0.904510</td>\n",
       "      <td>-1.035515</td>\n",
       "      <td>-1.222280</td>\n",
       "      <td>-1.692992</td>\n",
       "      <td>-1.454378</td>\n",
       "      <td>-1.675871</td>\n",
       "      <td>-0.809081</td>\n",
       "      <td>-0.596812</td>\n",
       "      <td>-9.391440</td>\n",
       "    </tr>\n",
       "    <tr>\n",
       "      <th>12</th>\n",
       "      <td>13</td>\n",
       "      <td>Weedle</td>\n",
       "      <td>Bug</td>\n",
       "      <td>Poison</td>\n",
       "      <td>1</td>\n",
       "      <td>False</td>\n",
       "      <td>-1.097947</td>\n",
       "      <td>-1.380528</td>\n",
       "      <td>-1.392949</td>\n",
       "      <td>-1.692992</td>\n",
       "      <td>-1.824531</td>\n",
       "      <td>-0.576081</td>\n",
       "      <td>-0.809081</td>\n",
       "      <td>-0.601302</td>\n",
       "      <td>-9.375410</td>\n",
       "    </tr>\n",
       "  </tbody>\n",
       "</table>\n",
       "</div>"
      ],
      "text/plain": [
       "      id       Name  Type_1  Type_2  Generation  isLegendary        HP  \\\n",
       "190  191    Sunkern   Grass    None           2        False -1.484820   \n",
       "297  298    Azurill  Normal   Fairy           3        False -0.711074   \n",
       "400  401  Kricketot     Bug    None           4        False -1.214009   \n",
       "264  265    Wurmple     Bug    None           3        False -0.904510   \n",
       "12    13     Weedle     Bug  Poison           1        False -1.097947   \n",
       "\n",
       "       Attack   Defense    Sp_Atk    Sp_Def     Speed  Height_m  Weight_kg  \\\n",
       "190 -1.553034 -1.392949 -1.345625 -1.454378 -1.309275 -0.809081  -0.617015   \n",
       "297 -1.898046 -1.051612 -1.692992 -1.084225 -1.675871 -0.904833  -0.614770   \n",
       "400 -1.725540 -1.017478 -1.519309 -1.047209 -1.492573 -0.809081  -0.612526   \n",
       "264 -1.035515 -1.222280 -1.692992 -1.454378 -1.675871 -0.809081  -0.596812   \n",
       "12  -1.380528 -1.392949 -1.692992 -1.824531 -0.576081 -0.809081  -0.601302   \n",
       "\n",
       "          Str  \n",
       "190 -9.966176  \n",
       "297 -9.633423  \n",
       "400 -9.437724  \n",
       "264 -9.391440  \n",
       "12  -9.375410  "
      ]
     },
     "execution_count": 31,
     "metadata": {},
     "output_type": "execute_result"
    }
   ],
   "source": [
    "Powerfulstats=pd.merge(Pokedex, stats, on='id').sort_values('Str')\n",
    "Powerfulstats.head(5)"
   ]
  },
  {
   "cell_type": "markdown",
   "metadata": {},
   "source": [
    "We sort the same data to reverse and we found the weakest pokemon and it Sunkern we try to find the strongest water pokemon;"
   ]
  },
  {
   "cell_type": "code",
   "execution_count": 36,
   "metadata": {},
   "outputs": [
    {
     "data": {
      "text/html": [
       "<div>\n",
       "<style scoped>\n",
       "    .dataframe tbody tr th:only-of-type {\n",
       "        vertical-align: middle;\n",
       "    }\n",
       "\n",
       "    .dataframe tbody tr th {\n",
       "        vertical-align: top;\n",
       "    }\n",
       "\n",
       "    .dataframe thead th {\n",
       "        text-align: right;\n",
       "    }\n",
       "</style>\n",
       "<table border=\"1\" class=\"dataframe\">\n",
       "  <thead>\n",
       "    <tr style=\"text-align: right;\">\n",
       "      <th></th>\n",
       "      <th>id</th>\n",
       "      <th>Name</th>\n",
       "      <th>Type_1</th>\n",
       "      <th>Type_2</th>\n",
       "      <th>Generation</th>\n",
       "      <th>isLegendary</th>\n",
       "      <th>HP</th>\n",
       "      <th>Attack</th>\n",
       "      <th>Defense</th>\n",
       "      <th>Sp_Atk</th>\n",
       "      <th>Sp_Def</th>\n",
       "      <th>Speed</th>\n",
       "      <th>Height_m</th>\n",
       "      <th>Weight_kg</th>\n",
       "      <th>Str</th>\n",
       "    </tr>\n",
       "  </thead>\n",
       "  <tbody>\n",
       "    <tr>\n",
       "      <th>320</th>\n",
       "      <td>321</td>\n",
       "      <td>Wailord</td>\n",
       "      <td>Water</td>\n",
       "      <td>None</td>\n",
       "      <td>3</td>\n",
       "      <td>False</td>\n",
       "      <td>3.931403</td>\n",
       "      <td>0.517040</td>\n",
       "      <td>-0.880943</td>\n",
       "      <td>0.738576</td>\n",
       "      <td>-0.899148</td>\n",
       "      <td>-0.209484</td>\n",
       "      <td>12.787652</td>\n",
       "      <td>3.829890</td>\n",
       "      <td>19.814986</td>\n",
       "    </tr>\n",
       "    <tr>\n",
       "      <th>381</th>\n",
       "      <td>382</td>\n",
       "      <td>Kyogre</td>\n",
       "      <td>Water</td>\n",
       "      <td>None</td>\n",
       "      <td>3</td>\n",
       "      <td>True</td>\n",
       "      <td>1.223292</td>\n",
       "      <td>0.862052</td>\n",
       "      <td>0.655074</td>\n",
       "      <td>2.822778</td>\n",
       "      <td>2.617305</td>\n",
       "      <td>0.890307</td>\n",
       "      <td>3.212488</td>\n",
       "      <td>3.313591</td>\n",
       "      <td>15.596885</td>\n",
       "    </tr>\n",
       "    <tr>\n",
       "      <th>483</th>\n",
       "      <td>484</td>\n",
       "      <td>Palkia</td>\n",
       "      <td>Water</td>\n",
       "      <td>Dragon</td>\n",
       "      <td>4</td>\n",
       "      <td>True</td>\n",
       "      <td>0.836418</td>\n",
       "      <td>1.552077</td>\n",
       "      <td>0.996411</td>\n",
       "      <td>2.822778</td>\n",
       "      <td>1.876999</td>\n",
       "      <td>1.256904</td>\n",
       "      <td>2.915657</td>\n",
       "      <td>3.134009</td>\n",
       "      <td>15.391252</td>\n",
       "    </tr>\n",
       "    <tr>\n",
       "      <th>129</th>\n",
       "      <td>130</td>\n",
       "      <td>Gyarados</td>\n",
       "      <td>Water</td>\n",
       "      <td>Flying</td>\n",
       "      <td>1</td>\n",
       "      <td>False</td>\n",
       "      <td>1.029855</td>\n",
       "      <td>1.724583</td>\n",
       "      <td>0.279603</td>\n",
       "      <td>-0.303524</td>\n",
       "      <td>1.136693</td>\n",
       "      <td>0.560369</td>\n",
       "      <td>5.127520</td>\n",
       "      <td>2.000396</td>\n",
       "      <td>11.555495</td>\n",
       "    </tr>\n",
       "    <tr>\n",
       "      <th>349</th>\n",
       "      <td>350</td>\n",
       "      <td>Milotic</td>\n",
       "      <td>Water</td>\n",
       "      <td>None</td>\n",
       "      <td>3</td>\n",
       "      <td>False</td>\n",
       "      <td>1.029855</td>\n",
       "      <td>-0.517997</td>\n",
       "      <td>0.279603</td>\n",
       "      <td>1.085943</td>\n",
       "      <td>2.062075</td>\n",
       "      <td>0.560369</td>\n",
       "      <td>4.840265</td>\n",
       "      <td>1.181052</td>\n",
       "      <td>10.521166</td>\n",
       "    </tr>\n",
       "  </tbody>\n",
       "</table>\n",
       "</div>"
      ],
      "text/plain": [
       "      id      Name Type_1  Type_2  Generation  isLegendary        HP  \\\n",
       "320  321   Wailord  Water    None           3        False  3.931403   \n",
       "381  382    Kyogre  Water    None           3         True  1.223292   \n",
       "483  484    Palkia  Water  Dragon           4         True  0.836418   \n",
       "129  130  Gyarados  Water  Flying           1        False  1.029855   \n",
       "349  350   Milotic  Water    None           3        False  1.029855   \n",
       "\n",
       "       Attack   Defense    Sp_Atk    Sp_Def     Speed   Height_m  Weight_kg  \\\n",
       "320  0.517040 -0.880943  0.738576 -0.899148 -0.209484  12.787652   3.829890   \n",
       "381  0.862052  0.655074  2.822778  2.617305  0.890307   3.212488   3.313591   \n",
       "483  1.552077  0.996411  2.822778  1.876999  1.256904   2.915657   3.134009   \n",
       "129  1.724583  0.279603 -0.303524  1.136693  0.560369   5.127520   2.000396   \n",
       "349 -0.517997  0.279603  1.085943  2.062075  0.560369   4.840265   1.181052   \n",
       "\n",
       "           Str  \n",
       "320  19.814986  \n",
       "381  15.596885  \n",
       "483  15.391252  \n",
       "129  11.555495  \n",
       "349  10.521166  "
      ]
     },
     "execution_count": 36,
     "metadata": {},
     "output_type": "execute_result"
    }
   ],
   "source": [
    "\n",
    "Powerfulwater=pd.merge(Pokedex, stats, on='id').sort_values('Str', ascending=False)\n",
    "Powerfulwater[Powerfulwater.Type_1=='Water'].head()\n"
   ]
  },
  {
   "cell_type": "markdown",
   "metadata": {},
   "source": [
    "As shown in the figure waillord is the strongest pokemon after that we wonder the strongest fire pokemon;"
   ]
  },
  {
   "cell_type": "code",
   "execution_count": 38,
   "metadata": {},
   "outputs": [
    {
     "data": {
      "text/html": [
       "<div>\n",
       "<style scoped>\n",
       "    .dataframe tbody tr th:only-of-type {\n",
       "        vertical-align: middle;\n",
       "    }\n",
       "\n",
       "    .dataframe tbody tr th {\n",
       "        vertical-align: top;\n",
       "    }\n",
       "\n",
       "    .dataframe thead th {\n",
       "        text-align: right;\n",
       "    }\n",
       "</style>\n",
       "<table border=\"1\" class=\"dataframe\">\n",
       "  <thead>\n",
       "    <tr style=\"text-align: right;\">\n",
       "      <th></th>\n",
       "      <th>id</th>\n",
       "      <th>Name</th>\n",
       "      <th>Type_1</th>\n",
       "      <th>Type_2</th>\n",
       "      <th>Generation</th>\n",
       "      <th>isLegendary</th>\n",
       "      <th>HP</th>\n",
       "      <th>Attack</th>\n",
       "      <th>Defense</th>\n",
       "      <th>Sp_Atk</th>\n",
       "      <th>Sp_Def</th>\n",
       "      <th>Speed</th>\n",
       "      <th>Height_m</th>\n",
       "      <th>Weight_kg</th>\n",
       "      <th>Str</th>\n",
       "    </tr>\n",
       "  </thead>\n",
       "  <tbody>\n",
       "    <tr>\n",
       "      <th>249</th>\n",
       "      <td>250</td>\n",
       "      <td>Ho-Oh</td>\n",
       "      <td>Fire</td>\n",
       "      <td>Flying</td>\n",
       "      <td>2</td>\n",
       "      <td>True</td>\n",
       "      <td>1.455415</td>\n",
       "      <td>1.897089</td>\n",
       "      <td>0.655074</td>\n",
       "      <td>1.433310</td>\n",
       "      <td>3.135519</td>\n",
       "      <td>0.890307</td>\n",
       "      <td>2.551801</td>\n",
       "      <td>1.596336</td>\n",
       "      <td>13.614851</td>\n",
       "    </tr>\n",
       "    <tr>\n",
       "      <th>484</th>\n",
       "      <td>485</td>\n",
       "      <td>Heatran</td>\n",
       "      <td>Fire</td>\n",
       "      <td>Steel</td>\n",
       "      <td>4</td>\n",
       "      <td>True</td>\n",
       "      <td>0.875106</td>\n",
       "      <td>0.517040</td>\n",
       "      <td>1.201213</td>\n",
       "      <td>2.128044</td>\n",
       "      <td>1.358785</td>\n",
       "      <td>0.413731</td>\n",
       "      <td>0.531442</td>\n",
       "      <td>4.189055</td>\n",
       "      <td>11.214414</td>\n",
       "    </tr>\n",
       "    <tr>\n",
       "      <th>720</th>\n",
       "      <td>721</td>\n",
       "      <td>Volcanion</td>\n",
       "      <td>Fire</td>\n",
       "      <td>Water</td>\n",
       "      <td>6</td>\n",
       "      <td>True</td>\n",
       "      <td>0.449545</td>\n",
       "      <td>1.207064</td>\n",
       "      <td>1.679085</td>\n",
       "      <td>2.128044</td>\n",
       "      <td>0.766540</td>\n",
       "      <td>0.157113</td>\n",
       "      <td>0.531442</td>\n",
       "      <td>1.551441</td>\n",
       "      <td>8.470273</td>\n",
       "    </tr>\n",
       "    <tr>\n",
       "      <th>243</th>\n",
       "      <td>244</td>\n",
       "      <td>Entei</td>\n",
       "      <td>Fire</td>\n",
       "      <td>None</td>\n",
       "      <td>2</td>\n",
       "      <td>True</td>\n",
       "      <td>1.803601</td>\n",
       "      <td>1.379571</td>\n",
       "      <td>0.484405</td>\n",
       "      <td>0.738576</td>\n",
       "      <td>0.211311</td>\n",
       "      <td>1.256904</td>\n",
       "      <td>0.924023</td>\n",
       "      <td>1.585112</td>\n",
       "      <td>8.383503</td>\n",
       "    </tr>\n",
       "    <tr>\n",
       "      <th>58</th>\n",
       "      <td>59</td>\n",
       "      <td>Arcanine</td>\n",
       "      <td>Fire</td>\n",
       "      <td>None</td>\n",
       "      <td>1</td>\n",
       "      <td>False</td>\n",
       "      <td>0.836418</td>\n",
       "      <td>1.207064</td>\n",
       "      <td>0.313737</td>\n",
       "      <td>1.085943</td>\n",
       "      <td>0.396387</td>\n",
       "      <td>1.073605</td>\n",
       "      <td>0.732520</td>\n",
       "      <td>1.102485</td>\n",
       "      <td>6.748160</td>\n",
       "    </tr>\n",
       "  </tbody>\n",
       "</table>\n",
       "</div>"
      ],
      "text/plain": [
       "      id       Name Type_1  Type_2  Generation  isLegendary        HP  \\\n",
       "249  250      Ho-Oh   Fire  Flying           2         True  1.455415   \n",
       "484  485    Heatran   Fire   Steel           4         True  0.875106   \n",
       "720  721  Volcanion   Fire   Water           6         True  0.449545   \n",
       "243  244      Entei   Fire    None           2         True  1.803601   \n",
       "58    59   Arcanine   Fire    None           1        False  0.836418   \n",
       "\n",
       "       Attack   Defense    Sp_Atk    Sp_Def     Speed  Height_m  Weight_kg  \\\n",
       "249  1.897089  0.655074  1.433310  3.135519  0.890307  2.551801   1.596336   \n",
       "484  0.517040  1.201213  2.128044  1.358785  0.413731  0.531442   4.189055   \n",
       "720  1.207064  1.679085  2.128044  0.766540  0.157113  0.531442   1.551441   \n",
       "243  1.379571  0.484405  0.738576  0.211311  1.256904  0.924023   1.585112   \n",
       "58   1.207064  0.313737  1.085943  0.396387  1.073605  0.732520   1.102485   \n",
       "\n",
       "           Str  \n",
       "249  13.614851  \n",
       "484  11.214414  \n",
       "720   8.470273  \n",
       "243   8.383503  \n",
       "58    6.748160  "
      ]
     },
     "execution_count": 38,
     "metadata": {},
     "output_type": "execute_result"
    }
   ],
   "source": [
    "Powerfulfire=pd.merge(Pokedex, stats, on='id').sort_values('Str', ascending=False)\n",
    "Powerfulfire[Powerfulfire.Type_1=='Fire'].head()"
   ]
  },
  {
   "cell_type": "markdown",
   "metadata": {},
   "source": [
    "As shown in the figure unfortunetly charizard is not the strongest fire pokemon Ho-oh is the strongest fire pokemon"
   ]
  },
  {
   "cell_type": "code",
   "execution_count": 43,
   "metadata": {},
   "outputs": [
    {
     "data": {
      "text/html": [
       "<div>\n",
       "<style scoped>\n",
       "    .dataframe tbody tr th:only-of-type {\n",
       "        vertical-align: middle;\n",
       "    }\n",
       "\n",
       "    .dataframe tbody tr th {\n",
       "        vertical-align: top;\n",
       "    }\n",
       "\n",
       "    .dataframe thead th {\n",
       "        text-align: right;\n",
       "    }\n",
       "</style>\n",
       "<table border=\"1\" class=\"dataframe\">\n",
       "  <thead>\n",
       "    <tr style=\"text-align: right;\">\n",
       "      <th></th>\n",
       "      <th>id</th>\n",
       "      <th>Name</th>\n",
       "      <th>Type_1</th>\n",
       "      <th>Type_2</th>\n",
       "      <th>Generation</th>\n",
       "      <th>isLegendary</th>\n",
       "      <th>HP</th>\n",
       "      <th>Attack</th>\n",
       "      <th>Defense</th>\n",
       "      <th>Sp_Atk</th>\n",
       "      <th>Sp_Def</th>\n",
       "      <th>Speed</th>\n",
       "      <th>Height_m</th>\n",
       "      <th>Weight_kg</th>\n",
       "      <th>Str</th>\n",
       "    </tr>\n",
       "  </thead>\n",
       "  <tbody>\n",
       "    <tr>\n",
       "      <th>242</th>\n",
       "      <td>243</td>\n",
       "      <td>Raikou</td>\n",
       "      <td>Electric</td>\n",
       "      <td>None</td>\n",
       "      <td>2</td>\n",
       "      <td>True</td>\n",
       "      <td>0.836418</td>\n",
       "      <td>0.344534</td>\n",
       "      <td>0.143068</td>\n",
       "      <td>1.606993</td>\n",
       "      <td>1.136693</td>\n",
       "      <td>1.806799</td>\n",
       "      <td>0.732520</td>\n",
       "      <td>1.360634</td>\n",
       "      <td>7.967660</td>\n",
       "    </tr>\n",
       "    <tr>\n",
       "      <th>144</th>\n",
       "      <td>145</td>\n",
       "      <td>Zapdos</td>\n",
       "      <td>Electric</td>\n",
       "      <td>Flying</td>\n",
       "      <td>1</td>\n",
       "      <td>True</td>\n",
       "      <td>0.836418</td>\n",
       "      <td>0.517040</td>\n",
       "      <td>0.484405</td>\n",
       "      <td>1.954360</td>\n",
       "      <td>0.766540</td>\n",
       "      <td>1.256904</td>\n",
       "      <td>0.435690</td>\n",
       "      <td>-0.046841</td>\n",
       "      <td>6.204516</td>\n",
       "    </tr>\n",
       "    <tr>\n",
       "      <th>641</th>\n",
       "      <td>642</td>\n",
       "      <td>Thundurus</td>\n",
       "      <td>Electric</td>\n",
       "      <td>Flying</td>\n",
       "      <td>5</td>\n",
       "      <td>True</td>\n",
       "      <td>0.410858</td>\n",
       "      <td>1.379571</td>\n",
       "      <td>-0.027600</td>\n",
       "      <td>1.954360</td>\n",
       "      <td>0.396387</td>\n",
       "      <td>1.660160</td>\n",
       "      <td>0.339938</td>\n",
       "      <td>0.047439</td>\n",
       "      <td>6.161113</td>\n",
       "    </tr>\n",
       "    <tr>\n",
       "      <th>465</th>\n",
       "      <td>466</td>\n",
       "      <td>Electivire</td>\n",
       "      <td>Electric</td>\n",
       "      <td>None</td>\n",
       "      <td>4</td>\n",
       "      <td>False</td>\n",
       "      <td>0.256109</td>\n",
       "      <td>1.655580</td>\n",
       "      <td>-0.130002</td>\n",
       "      <td>0.912260</td>\n",
       "      <td>0.581464</td>\n",
       "      <td>1.073605</td>\n",
       "      <td>0.627193</td>\n",
       "      <td>0.918413</td>\n",
       "      <td>5.894622</td>\n",
       "    </tr>\n",
       "    <tr>\n",
       "      <th>461</th>\n",
       "      <td>462</td>\n",
       "      <td>Magnezone</td>\n",
       "      <td>Electric</td>\n",
       "      <td>Steel</td>\n",
       "      <td>4</td>\n",
       "      <td>False</td>\n",
       "      <td>0.062672</td>\n",
       "      <td>-0.172985</td>\n",
       "      <td>1.508416</td>\n",
       "      <td>2.128044</td>\n",
       "      <td>0.766540</td>\n",
       "      <td>-0.209484</td>\n",
       "      <td>0.043108</td>\n",
       "      <td>1.383082</td>\n",
       "      <td>5.509394</td>\n",
       "    </tr>\n",
       "  </tbody>\n",
       "</table>\n",
       "</div>"
      ],
      "text/plain": [
       "      id        Name    Type_1  Type_2  Generation  isLegendary        HP  \\\n",
       "242  243      Raikou  Electric    None           2         True  0.836418   \n",
       "144  145      Zapdos  Electric  Flying           1         True  0.836418   \n",
       "641  642   Thundurus  Electric  Flying           5         True  0.410858   \n",
       "465  466  Electivire  Electric    None           4        False  0.256109   \n",
       "461  462   Magnezone  Electric   Steel           4        False  0.062672   \n",
       "\n",
       "       Attack   Defense    Sp_Atk    Sp_Def     Speed  Height_m  Weight_kg  \\\n",
       "242  0.344534  0.143068  1.606993  1.136693  1.806799  0.732520   1.360634   \n",
       "144  0.517040  0.484405  1.954360  0.766540  1.256904  0.435690  -0.046841   \n",
       "641  1.379571 -0.027600  1.954360  0.396387  1.660160  0.339938   0.047439   \n",
       "465  1.655580 -0.130002  0.912260  0.581464  1.073605  0.627193   0.918413   \n",
       "461 -0.172985  1.508416  2.128044  0.766540 -0.209484  0.043108   1.383082   \n",
       "\n",
       "          Str  \n",
       "242  7.967660  \n",
       "144  6.204516  \n",
       "641  6.161113  \n",
       "465  5.894622  \n",
       "461  5.509394  "
      ]
     },
     "execution_count": 43,
     "metadata": {},
     "output_type": "execute_result"
    }
   ],
   "source": [
    "Powerfule=pd.merge(Pokedex, stats, on='id').sort_values('Str', ascending=False)\n",
    "Powerfule[Powerfule.Type_1=='Electric'].head()"
   ]
  },
  {
   "cell_type": "markdown",
   "metadata": {},
   "source": [
    "As shown in the figure Raikou is the strongest electiric pokemon"
   ]
  },
  {
   "cell_type": "markdown",
   "metadata": {},
   "source": [
    "# 7-) the strongest type"
   ]
  },
  {
   "cell_type": "markdown",
   "metadata": {},
   "source": [
    "Pokemon's types determine the pokemon's strength mostly so we decide to analyse the strongest pokemon"
   ]
  },
  {
   "cell_type": "code",
   "execution_count": 59,
   "metadata": {},
   "outputs": [
    {
     "data": {
      "image/png": "[encoded data removed]",
      "text/plain": [
       "<Figure size 432x288 with 2 Axes>"
      ]
     },
     "metadata": {
      "needs_background": "light"
     },
     "output_type": "display_data"
    }
   ],
   "source": [
    "types = pd.merge(Pokedex,stats,on='id')\n",
    "\n",
    "strongest_comb = types.groupby(['Type_1', 'Type_2']).median().loc[:, 'Str']\n",
    "\n",
    "sns.heatmap(strongest_comb.unstack(),linewidths=0.5,cmap='RdYlBu_r');"
   ]
  },
  {
   "cell_type": "markdown",
   "metadata": {},
   "source": [
    "we tried to show the strongest types in the figure after that we ordered the strongest type combination;"
   ]
  },
  {
   "cell_type": "code",
   "execution_count": 61,
   "metadata": {},
   "outputs": [
    {
     "data": {
      "text/html": [
       "<div>\n",
       "<style scoped>\n",
       "    .dataframe tbody tr th:only-of-type {\n",
       "        vertical-align: middle;\n",
       "    }\n",
       "\n",
       "    .dataframe tbody tr th {\n",
       "        vertical-align: top;\n",
       "    }\n",
       "\n",
       "    .dataframe thead th {\n",
       "        text-align: right;\n",
       "    }\n",
       "</style>\n",
       "<table border=\"1\" class=\"dataframe\">\n",
       "  <thead>\n",
       "    <tr style=\"text-align: right;\">\n",
       "      <th></th>\n",
       "      <th>Type_1</th>\n",
       "      <th>Type_2</th>\n",
       "      <th>Str</th>\n",
       "    </tr>\n",
       "  </thead>\n",
       "  <tbody>\n",
       "    <tr>\n",
       "      <th>53</th>\n",
       "      <td>Ghost</td>\n",
       "      <td>Dragon</td>\n",
       "      <td>21.692233</td>\n",
       "    </tr>\n",
       "    <tr>\n",
       "      <th>119</th>\n",
       "      <td>Steel</td>\n",
       "      <td>Dragon</td>\n",
       "      <td>20.416757</td>\n",
       "    </tr>\n",
       "    <tr>\n",
       "      <th>124</th>\n",
       "      <td>Steel</td>\n",
       "      <td>Ground</td>\n",
       "      <td>14.620676</td>\n",
       "    </tr>\n",
       "    <tr>\n",
       "      <th>22</th>\n",
       "      <td>Dragon</td>\n",
       "      <td>Fire</td>\n",
       "      <td>14.396244</td>\n",
       "    </tr>\n",
       "    <tr>\n",
       "      <th>21</th>\n",
       "      <td>Dragon</td>\n",
       "      <td>Electric</td>\n",
       "      <td>14.212652</td>\n",
       "    </tr>\n",
       "  </tbody>\n",
       "</table>\n",
       "</div>"
      ],
      "text/plain": [
       "     Type_1    Type_2        Str\n",
       "53    Ghost    Dragon  21.692233\n",
       "119   Steel    Dragon  20.416757\n",
       "124   Steel    Ground  14.620676\n",
       "22   Dragon      Fire  14.396244\n",
       "21   Dragon  Electric  14.212652"
      ]
     },
     "execution_count": 61,
     "metadata": {},
     "output_type": "execute_result"
    }
   ],
   "source": [
    "strongest_comb.reset_index().sort_values('Str', ascending=False).head()"
   ]
  },
  {
   "cell_type": "markdown",
   "metadata": {},
   "source": [
    "as shown in the data ghost and dragon combination is the strongest combination and we also wanted to show the weakest combination;"
   ]
  },
  {
   "cell_type": "code",
   "execution_count": 62,
   "metadata": {},
   "outputs": [
    {
     "data": {
      "text/html": [
       "<div>\n",
       "<style scoped>\n",
       "    .dataframe tbody tr th:only-of-type {\n",
       "        vertical-align: middle;\n",
       "    }\n",
       "\n",
       "    .dataframe tbody tr th {\n",
       "        vertical-align: top;\n",
       "    }\n",
       "\n",
       "    .dataframe thead th {\n",
       "        text-align: right;\n",
       "    }\n",
       "</style>\n",
       "<table border=\"1\" class=\"dataframe\">\n",
       "  <thead>\n",
       "    <tr style=\"text-align: right;\">\n",
       "      <th></th>\n",
       "      <th>Type_1</th>\n",
       "      <th>Type_2</th>\n",
       "      <th>Str</th>\n",
       "    </tr>\n",
       "  </thead>\n",
       "  <tbody>\n",
       "    <tr>\n",
       "      <th>7</th>\n",
       "      <td>Bug</td>\n",
       "      <td>None</td>\n",
       "      <td>-8.439141</td>\n",
       "    </tr>\n",
       "    <tr>\n",
       "      <th>4</th>\n",
       "      <td>Bug</td>\n",
       "      <td>Ghost</td>\n",
       "      <td>-7.676983</td>\n",
       "    </tr>\n",
       "    <tr>\n",
       "      <th>84</th>\n",
       "      <td>Normal</td>\n",
       "      <td>Fairy</td>\n",
       "      <td>-7.514097</td>\n",
       "    </tr>\n",
       "    <tr>\n",
       "      <th>6</th>\n",
       "      <td>Bug</td>\n",
       "      <td>Ground</td>\n",
       "      <td>-6.752744</td>\n",
       "    </tr>\n",
       "    <tr>\n",
       "      <th>11</th>\n",
       "      <td>Bug</td>\n",
       "      <td>Water</td>\n",
       "      <td>-6.518920</td>\n",
       "    </tr>\n",
       "  </tbody>\n",
       "</table>\n",
       "</div>"
      ],
      "text/plain": [
       "    Type_1  Type_2       Str\n",
       "7      Bug    None -8.439141\n",
       "4      Bug   Ghost -7.676983\n",
       "84  Normal   Fairy -7.514097\n",
       "6      Bug  Ground -6.752744\n",
       "11     Bug   Water -6.518920"
      ]
     },
     "execution_count": 62,
     "metadata": {},
     "output_type": "execute_result"
    }
   ],
   "source": [
    "weakest_comb=strongest_comb\n",
    "weakest_comb.reset_index().sort_values('Str').head()"
   ]
  },
  {
   "cell_type": "markdown",
   "metadata": {},
   "source": [
    "as shown in the data bug and none type combination is the weakest combination according to dataset"
   ]
  },
  {
   "cell_type": "markdown",
   "metadata": {},
   "source": [
    "# 8-) Corrolation of the pokemons' data"
   ]
  },
  {
   "cell_type": "code",
   "execution_count": 63,
   "metadata": {},
   "outputs": [
    {
     "data": {
      "text/html": [
       "<div>\n",
       "<style scoped>\n",
       "    .dataframe tbody tr th:only-of-type {\n",
       "        vertical-align: middle;\n",
       "    }\n",
       "\n",
       "    .dataframe tbody tr th {\n",
       "        vertical-align: top;\n",
       "    }\n",
       "\n",
       "    .dataframe thead th {\n",
       "        text-align: right;\n",
       "    }\n",
       "</style>\n",
       "<table border=\"1\" class=\"dataframe\">\n",
       "  <thead>\n",
       "    <tr style=\"text-align: right;\">\n",
       "      <th></th>\n",
       "      <th>id</th>\n",
       "      <th>Generation</th>\n",
       "      <th>isLegendary</th>\n",
       "      <th>HP</th>\n",
       "      <th>Attack</th>\n",
       "      <th>Defense</th>\n",
       "      <th>Sp_Atk</th>\n",
       "      <th>Sp_Def</th>\n",
       "      <th>Speed</th>\n",
       "      <th>Total</th>\n",
       "      <th>hasGender</th>\n",
       "      <th>Pr_Male</th>\n",
       "      <th>hasMegaEvolution</th>\n",
       "      <th>Height_m</th>\n",
       "      <th>Weight_kg</th>\n",
       "      <th>Catch_Rate</th>\n",
       "    </tr>\n",
       "  </thead>\n",
       "  <tbody>\n",
       "    <tr>\n",
       "      <th>id</th>\n",
       "      <td>1.000000</td>\n",
       "      <td>0.983329</td>\n",
       "      <td>0.135022</td>\n",
       "      <td>0.107512</td>\n",
       "      <td>0.138104</td>\n",
       "      <td>0.121401</td>\n",
       "      <td>0.120161</td>\n",
       "      <td>0.111822</td>\n",
       "      <td>0.028156</td>\n",
       "      <td>0.160370</td>\n",
       "      <td>-0.100328</td>\n",
       "      <td>-0.013414</td>\n",
       "      <td>-0.117981</td>\n",
       "      <td>-0.009710</td>\n",
       "      <td>0.087309</td>\n",
       "      <td>-0.074931</td>\n",
       "    </tr>\n",
       "    <tr>\n",
       "      <th>Generation</th>\n",
       "      <td>0.983329</td>\n",
       "      <td>1.000000</td>\n",
       "      <td>0.071875</td>\n",
       "      <td>0.071545</td>\n",
       "      <td>0.093857</td>\n",
       "      <td>0.068409</td>\n",
       "      <td>0.069689</td>\n",
       "      <td>0.055421</td>\n",
       "      <td>0.003920</td>\n",
       "      <td>0.092868</td>\n",
       "      <td>-0.029916</td>\n",
       "      <td>0.010912</td>\n",
       "      <td>-0.125374</td>\n",
       "      <td>-0.051304</td>\n",
       "      <td>0.034003</td>\n",
       "      <td>-0.025227</td>\n",
       "    </tr>\n",
       "    <tr>\n",
       "      <th>isLegendary</th>\n",
       "      <td>0.135022</td>\n",
       "      <td>0.071875</td>\n",
       "      <td>1.000000</td>\n",
       "      <td>0.258926</td>\n",
       "      <td>0.302786</td>\n",
       "      <td>0.274446</td>\n",
       "      <td>0.409739</td>\n",
       "      <td>0.360215</td>\n",
       "      <td>0.286082</td>\n",
       "      <td>0.481837</td>\n",
       "      <td>-0.644714</td>\n",
       "      <td>0.095428</td>\n",
       "      <td>0.047955</td>\n",
       "      <td>0.326323</td>\n",
       "      <td>0.425219</td>\n",
       "      <td>-0.319302</td>\n",
       "    </tr>\n",
       "    <tr>\n",
       "      <th>HP</th>\n",
       "      <td>0.107512</td>\n",
       "      <td>0.071545</td>\n",
       "      <td>0.258926</td>\n",
       "      <td>1.000000</td>\n",
       "      <td>0.431680</td>\n",
       "      <td>0.228834</td>\n",
       "      <td>0.368640</td>\n",
       "      <td>0.376006</td>\n",
       "      <td>0.170031</td>\n",
       "      <td>0.642628</td>\n",
       "      <td>-0.155031</td>\n",
       "      <td>-0.066704</td>\n",
       "      <td>0.093708</td>\n",
       "      <td>0.442872</td>\n",
       "      <td>0.431320</td>\n",
       "      <td>-0.478725</td>\n",
       "    </tr>\n",
       "    <tr>\n",
       "      <th>Attack</th>\n",
       "      <td>0.138104</td>\n",
       "      <td>0.093857</td>\n",
       "      <td>0.302786</td>\n",
       "      <td>0.431680</td>\n",
       "      <td>1.000000</td>\n",
       "      <td>0.433233</td>\n",
       "      <td>0.335205</td>\n",
       "      <td>0.207211</td>\n",
       "      <td>0.335013</td>\n",
       "      <td>0.704164</td>\n",
       "      <td>-0.196892</td>\n",
       "      <td>0.213882</td>\n",
       "      <td>0.203840</td>\n",
       "      <td>0.408590</td>\n",
       "      <td>0.469395</td>\n",
       "      <td>-0.525106</td>\n",
       "    </tr>\n",
       "    <tr>\n",
       "      <th>Defense</th>\n",
       "      <td>0.121401</td>\n",
       "      <td>0.068409</td>\n",
       "      <td>0.274446</td>\n",
       "      <td>0.228834</td>\n",
       "      <td>0.433233</td>\n",
       "      <td>1.000000</td>\n",
       "      <td>0.202519</td>\n",
       "      <td>0.483986</td>\n",
       "      <td>-0.008663</td>\n",
       "      <td>0.605831</td>\n",
       "      <td>-0.269466</td>\n",
       "      <td>0.063899</td>\n",
       "      <td>0.122666</td>\n",
       "      <td>0.354205</td>\n",
       "      <td>0.476983</td>\n",
       "      <td>-0.436558</td>\n",
       "    </tr>\n",
       "    <tr>\n",
       "      <th>Sp_Atk</th>\n",
       "      <td>0.120161</td>\n",
       "      <td>0.069689</td>\n",
       "      <td>0.409739</td>\n",
       "      <td>0.368640</td>\n",
       "      <td>0.335205</td>\n",
       "      <td>0.202519</td>\n",
       "      <td>1.000000</td>\n",
       "      <td>0.492861</td>\n",
       "      <td>0.443106</td>\n",
       "      <td>0.723737</td>\n",
       "      <td>-0.336579</td>\n",
       "      <td>0.105893</td>\n",
       "      <td>0.175581</td>\n",
       "      <td>0.330579</td>\n",
       "      <td>0.285048</td>\n",
       "      <td>-0.539114</td>\n",
       "    </tr>\n",
       "    <tr>\n",
       "      <th>Sp_Def</th>\n",
       "      <td>0.111822</td>\n",
       "      <td>0.055421</td>\n",
       "      <td>0.360215</td>\n",
       "      <td>0.376006</td>\n",
       "      <td>0.207211</td>\n",
       "      <td>0.483986</td>\n",
       "      <td>0.492861</td>\n",
       "      <td>1.000000</td>\n",
       "      <td>0.233487</td>\n",
       "      <td>0.706501</td>\n",
       "      <td>-0.337265</td>\n",
       "      <td>0.017941</td>\n",
       "      <td>0.149796</td>\n",
       "      <td>0.313196</td>\n",
       "      <td>0.328645</td>\n",
       "      <td>-0.513014</td>\n",
       "    </tr>\n",
       "    <tr>\n",
       "      <th>Speed</th>\n",
       "      <td>0.028156</td>\n",
       "      <td>0.003920</td>\n",
       "      <td>0.286082</td>\n",
       "      <td>0.170031</td>\n",
       "      <td>0.335013</td>\n",
       "      <td>-0.008663</td>\n",
       "      <td>0.443106</td>\n",
       "      <td>0.233487</td>\n",
       "      <td>1.000000</td>\n",
       "      <td>0.548890</td>\n",
       "      <td>-0.216964</td>\n",
       "      <td>0.070098</td>\n",
       "      <td>0.147844</td>\n",
       "      <td>0.224617</td>\n",
       "      <td>0.108637</td>\n",
       "      <td>-0.410557</td>\n",
       "    </tr>\n",
       "    <tr>\n",
       "      <th>Total</th>\n",
       "      <td>0.160370</td>\n",
       "      <td>0.092868</td>\n",
       "      <td>0.481837</td>\n",
       "      <td>0.642628</td>\n",
       "      <td>0.704164</td>\n",
       "      <td>0.605831</td>\n",
       "      <td>0.723737</td>\n",
       "      <td>0.706501</td>\n",
       "      <td>0.548890</td>\n",
       "      <td>1.000000</td>\n",
       "      <td>-0.385978</td>\n",
       "      <td>0.113564</td>\n",
       "      <td>0.228503</td>\n",
       "      <td>0.526813</td>\n",
       "      <td>0.535966</td>\n",
       "      <td>-0.738280</td>\n",
       "    </tr>\n",
       "    <tr>\n",
       "      <th>hasGender</th>\n",
       "      <td>-0.100328</td>\n",
       "      <td>-0.029916</td>\n",
       "      <td>-0.644714</td>\n",
       "      <td>-0.155031</td>\n",
       "      <td>-0.196892</td>\n",
       "      <td>-0.269466</td>\n",
       "      <td>-0.336579</td>\n",
       "      <td>-0.337265</td>\n",
       "      <td>-0.216964</td>\n",
       "      <td>-0.385978</td>\n",
       "      <td>1.000000</td>\n",
       "      <td>NaN</td>\n",
       "      <td>0.016769</td>\n",
       "      <td>-0.200026</td>\n",
       "      <td>-0.361465</td>\n",
       "      <td>0.272304</td>\n",
       "    </tr>\n",
       "    <tr>\n",
       "      <th>Pr_Male</th>\n",
       "      <td>-0.013414</td>\n",
       "      <td>0.010912</td>\n",
       "      <td>0.095428</td>\n",
       "      <td>-0.066704</td>\n",
       "      <td>0.213882</td>\n",
       "      <td>0.063899</td>\n",
       "      <td>0.105893</td>\n",
       "      <td>0.017941</td>\n",
       "      <td>0.070098</td>\n",
       "      <td>0.113564</td>\n",
       "      <td>NaN</td>\n",
       "      <td>1.000000</td>\n",
       "      <td>0.031731</td>\n",
       "      <td>0.040863</td>\n",
       "      <td>0.061196</td>\n",
       "      <td>-0.253645</td>\n",
       "    </tr>\n",
       "    <tr>\n",
       "      <th>hasMegaEvolution</th>\n",
       "      <td>-0.117981</td>\n",
       "      <td>-0.125374</td>\n",
       "      <td>0.047955</td>\n",
       "      <td>0.093708</td>\n",
       "      <td>0.203840</td>\n",
       "      <td>0.122666</td>\n",
       "      <td>0.175581</td>\n",
       "      <td>0.149796</td>\n",
       "      <td>0.147844</td>\n",
       "      <td>0.228503</td>\n",
       "      <td>0.016769</td>\n",
       "      <td>0.031731</td>\n",
       "      <td>1.000000</td>\n",
       "      <td>0.194621</td>\n",
       "      <td>0.129057</td>\n",
       "      <td>-0.173273</td>\n",
       "    </tr>\n",
       "    <tr>\n",
       "      <th>Height_m</th>\n",
       "      <td>-0.009710</td>\n",
       "      <td>-0.051304</td>\n",
       "      <td>0.326323</td>\n",
       "      <td>0.442872</td>\n",
       "      <td>0.408590</td>\n",
       "      <td>0.354205</td>\n",
       "      <td>0.330579</td>\n",
       "      <td>0.313196</td>\n",
       "      <td>0.224617</td>\n",
       "      <td>0.526813</td>\n",
       "      <td>-0.200026</td>\n",
       "      <td>0.040863</td>\n",
       "      <td>0.194621</td>\n",
       "      <td>1.000000</td>\n",
       "      <td>0.661342</td>\n",
       "      <td>-0.382862</td>\n",
       "    </tr>\n",
       "    <tr>\n",
       "      <th>Weight_kg</th>\n",
       "      <td>0.087309</td>\n",
       "      <td>0.034003</td>\n",
       "      <td>0.425219</td>\n",
       "      <td>0.431320</td>\n",
       "      <td>0.469395</td>\n",
       "      <td>0.476983</td>\n",
       "      <td>0.285048</td>\n",
       "      <td>0.328645</td>\n",
       "      <td>0.108637</td>\n",
       "      <td>0.535966</td>\n",
       "      <td>-0.361465</td>\n",
       "      <td>0.061196</td>\n",
       "      <td>0.129057</td>\n",
       "      <td>0.661342</td>\n",
       "      <td>1.000000</td>\n",
       "      <td>-0.367798</td>\n",
       "    </tr>\n",
       "    <tr>\n",
       "      <th>Catch_Rate</th>\n",
       "      <td>-0.074931</td>\n",
       "      <td>-0.025227</td>\n",
       "      <td>-0.319302</td>\n",
       "      <td>-0.478725</td>\n",
       "      <td>-0.525106</td>\n",
       "      <td>-0.436558</td>\n",
       "      <td>-0.539114</td>\n",
       "      <td>-0.513014</td>\n",
       "      <td>-0.410557</td>\n",
       "      <td>-0.738280</td>\n",
       "      <td>0.272304</td>\n",
       "      <td>-0.253645</td>\n",
       "      <td>-0.173273</td>\n",
       "      <td>-0.382862</td>\n",
       "      <td>-0.367798</td>\n",
       "      <td>1.000000</td>\n",
       "    </tr>\n",
       "  </tbody>\n",
       "</table>\n",
       "</div>"
      ],
      "text/plain": [
       "                        id  Generation  isLegendary        HP    Attack  \\\n",
       "id                1.000000    0.983329     0.135022  0.107512  0.138104   \n",
       "Generation        0.983329    1.000000     0.071875  0.071545  0.093857   \n",
       "isLegendary       0.135022    0.071875     1.000000  0.258926  0.302786   \n",
       "HP                0.107512    0.071545     0.258926  1.000000  0.431680   \n",
       "Attack            0.138104    0.093857     0.302786  0.431680  1.000000   \n",
       "Defense           0.121401    0.068409     0.274446  0.228834  0.433233   \n",
       "Sp_Atk            0.120161    0.069689     0.409739  0.368640  0.335205   \n",
       "Sp_Def            0.111822    0.055421     0.360215  0.376006  0.207211   \n",
       "Speed             0.028156    0.003920     0.286082  0.170031  0.335013   \n",
       "Total             0.160370    0.092868     0.481837  0.642628  0.704164   \n",
       "hasGender        -0.100328   -0.029916    -0.644714 -0.155031 -0.196892   \n",
       "Pr_Male          -0.013414    0.010912     0.095428 -0.066704  0.213882   \n",
       "hasMegaEvolution -0.117981   -0.125374     0.047955  0.093708  0.203840   \n",
       "Height_m         -0.009710   -0.051304     0.326323  0.442872  0.408590   \n",
       "Weight_kg         0.087309    0.034003     0.425219  0.431320  0.469395   \n",
       "Catch_Rate       -0.074931   -0.025227    -0.319302 -0.478725 -0.525106   \n",
       "\n",
       "                   Defense    Sp_Atk    Sp_Def     Speed     Total  hasGender  \\\n",
       "id                0.121401  0.120161  0.111822  0.028156  0.160370  -0.100328   \n",
       "Generation        0.068409  0.069689  0.055421  0.003920  0.092868  -0.029916   \n",
       "isLegendary       0.274446  0.409739  0.360215  0.286082  0.481837  -0.644714   \n",
       "HP                0.228834  0.368640  0.376006  0.170031  0.642628  -0.155031   \n",
       "Attack            0.433233  0.335205  0.207211  0.335013  0.704164  -0.196892   \n",
       "Defense           1.000000  0.202519  0.483986 -0.008663  0.605831  -0.269466   \n",
       "Sp_Atk            0.202519  1.000000  0.492861  0.443106  0.723737  -0.336579   \n",
       "Sp_Def            0.483986  0.492861  1.000000  0.233487  0.706501  -0.337265   \n",
       "Speed            -0.008663  0.443106  0.233487  1.000000  0.548890  -0.216964   \n",
       "Total             0.605831  0.723737  0.706501  0.548890  1.000000  -0.385978   \n",
       "hasGender        -0.269466 -0.336579 -0.337265 -0.216964 -0.385978   1.000000   \n",
       "Pr_Male           0.063899  0.105893  0.017941  0.070098  0.113564        NaN   \n",
       "hasMegaEvolution  0.122666  0.175581  0.149796  0.147844  0.228503   0.016769   \n",
       "Height_m          0.354205  0.330579  0.313196  0.224617  0.526813  -0.200026   \n",
       "Weight_kg         0.476983  0.285048  0.328645  0.108637  0.535966  -0.361465   \n",
       "Catch_Rate       -0.436558 -0.539114 -0.513014 -0.410557 -0.738280   0.272304   \n",
       "\n",
       "                   Pr_Male  hasMegaEvolution  Height_m  Weight_kg  Catch_Rate  \n",
       "id               -0.013414         -0.117981 -0.009710   0.087309   -0.074931  \n",
       "Generation        0.010912         -0.125374 -0.051304   0.034003   -0.025227  \n",
       "isLegendary       0.095428          0.047955  0.326323   0.425219   -0.319302  \n",
       "HP               -0.066704          0.093708  0.442872   0.431320   -0.478725  \n",
       "Attack            0.213882          0.203840  0.408590   0.469395   -0.525106  \n",
       "Defense           0.063899          0.122666  0.354205   0.476983   -0.436558  \n",
       "Sp_Atk            0.105893          0.175581  0.330579   0.285048   -0.539114  \n",
       "Sp_Def            0.017941          0.149796  0.313196   0.328645   -0.513014  \n",
       "Speed             0.070098          0.147844  0.224617   0.108637   -0.410557  \n",
       "Total             0.113564          0.228503  0.526813   0.535966   -0.738280  \n",
       "hasGender              NaN          0.016769 -0.200026  -0.361465    0.272304  \n",
       "Pr_Male           1.000000          0.031731  0.040863   0.061196   -0.253645  \n",
       "hasMegaEvolution  0.031731          1.000000  0.194621   0.129057   -0.173273  \n",
       "Height_m          0.040863          0.194621  1.000000   0.661342   -0.382862  \n",
       "Weight_kg         0.061196          0.129057  0.661342   1.000000   -0.367798  \n",
       "Catch_Rate       -0.253645         -0.173273 -0.382862  -0.367798    1.000000  "
      ]
     },
     "execution_count": 63,
     "metadata": {},
     "output_type": "execute_result"
    }
   ],
   "source": [
    "dataset=pd.merge(Pokedex, Statistics, on='id')\n",
    "dataset.corr()"
   ]
  },
  {
   "cell_type": "code",
   "execution_count": null,
   "metadata": {},
   "outputs": [],
   "source": []
  }
 ],
 "metadata": {
  "kernelspec": {
   "display_name": "Python 3",
   "language": "python",
   "name": "python3"
  },
  "language_info": {
   "codemirror_mode": {
    "name": "ipython",
    "version": 3
   },
   "file_extension": ".py",
   "mimetype": "text/x-python",
   "name": "python",
   "nbconvert_exporter": "python",
   "pygments_lexer": "ipython3",
   "version": "3.7.0"
  }
 },
 "nbformat": 4,
 "nbformat_minor": 2
}
